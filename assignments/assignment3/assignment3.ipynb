{
 "cells": [
  {
   "cell_type": "markdown",
   "id": "32f9d7d4-8b65-493d-80ae-8bc8b3a53c2a",
   "metadata": {
    "slideshow": {
     "slide_type": ""
    },
    "tags": []
   },
   "source": [
    "# Assignment 3 draft (NOT FINALIZED)\n",
    "\n",
    "Please fill in blanks in this notebook. See the [README](https://github.com/mortonne/datascipsych) for instructions on setting up a Python environment to run this notebook.\n",
    "\n",
    "Write your answers for each problem, then run all cells. Upload your notebook to Canvas.\n",
    "\n",
    "If you get stuck, read through the other notebooks in this directory, ask us for help in class, or ask other students for help in class or on the weekly discussion board."
   ]
  },
  {
   "cell_type": "markdown",
   "id": "bc3b0906-de4b-41dc-bf48-c4331b28babb",
   "metadata": {
    "editable": true,
    "slideshow": {
     "slide_type": ""
    },
    "tags": []
   },
   "source": [
    "## Sample problem\n",
    "First, let's go through a sample problem to show you how this works. You'll see problems below to fill out. They will have instructions, often some sort of data to work with, and a space to fill in your answer. For example:"
   ]
  },
  {
   "cell_type": "markdown",
   "id": "7a41cc78-bd96-424c-95c7-a156cdfa735d",
   "metadata": {},
   "source": [
    "### Problem\n",
    "Use f-strings to greet a user. Given a greeting string and a user string, make a string of `\"[greeting] [user]\"` using f-strings."
   ]
  },
  {
   "cell_type": "markdown",
   "id": "ff9dcdf7-6bea-414f-b31d-7da456c9eed0",
   "metadata": {
    "editable": true,
    "slideshow": {
     "slide_type": ""
    },
    "tags": []
   },
   "source": [
    "### Setup\n",
    "There will usually be a *Setup* cell that defines some variables. Often it will initialize a variable that you need to modify. Here, the `message` variable will hold the greeting string that you will make. We initialize it in the *Setup* cell so that the *Result* cell will run without an error even if haven't written your answer yet."
   ]
  },
  {
   "cell_type": "code",
   "execution_count": 1,
   "id": "783b272b-9d67-4282-b6a3-a97cf9975767",
   "metadata": {
    "slideshow": {
     "slide_type": ""
    },
    "tags": []
   },
   "outputs": [],
   "source": [
    "greeting = \"hello\"  # string to greet the user\n",
    "user = \"world\"  # user to greet\n",
    "message = None  # you will overwrite this variable with your message"
   ]
  },
  {
   "cell_type": "markdown",
   "id": "2381e832-d7af-44a8-a504-ebb62ba2bcb3",
   "metadata": {
    "editable": true,
    "slideshow": {
     "slide_type": ""
    },
    "tags": []
   },
   "source": [
    "### Answer\n",
    "This is the only part that you should change. Edit it to store the code in your answer."
   ]
  },
  {
   "cell_type": "code",
   "execution_count": 2,
   "id": "41097b83-2adc-4f69-8716-036e059a462b",
   "metadata": {
    "editable": true,
    "slideshow": {
     "slide_type": ""
    },
    "tags": []
   },
   "outputs": [],
   "source": [
    "# your code here"
   ]
  },
  {
   "cell_type": "markdown",
   "id": "ea6e710c-cf24-4076-9db0-1339ff48bddc",
   "metadata": {
    "editable": true,
    "slideshow": {
     "slide_type": ""
    },
    "tags": []
   },
   "source": [
    "### Result"
   ]
  },
  {
   "cell_type": "code",
   "execution_count": 3,
   "id": "e749216e-6392-4d87-ba81-b9e5eec2b727",
   "metadata": {
    "slideshow": {
     "slide_type": ""
    },
    "tags": []
   },
   "outputs": [
    {
     "name": "stdout",
     "output_type": "stream",
     "text": [
      "None\n"
     ]
    }
   ],
   "source": [
    "print(message)  # displays the message that you created in the Answer cell"
   ]
  },
  {
   "cell_type": "markdown",
   "id": "212f15fc-8f7d-4359-bc48-f53b910506f7",
   "metadata": {
    "editable": true,
    "slideshow": {
     "slide_type": ""
    },
    "tags": []
   },
   "source": [
    "### Writing a solution"
   ]
  },
  {
   "cell_type": "markdown",
   "id": "97450d5c-4fe3-4d81-9ac3-75aab99bb1e8",
   "metadata": {
    "editable": true,
    "slideshow": {
     "slide_type": ""
    },
    "tags": []
   },
   "source": [
    "Note that there is a placeholder in the answer section. Here, the `message` variable is defined as `None`. This is a placeholder value. You should replace that line with code to answer the problem. The print statement is just there to make it so we can easily see your answer. For example, here is a solution:"
   ]
  },
  {
   "cell_type": "code",
   "execution_count": 4,
   "id": "db31017d-de39-4902-91bf-bf1c072baf81",
   "metadata": {
    "editable": true,
    "slideshow": {
     "slide_type": ""
    },
    "tags": []
   },
   "outputs": [],
   "source": [
    "message = f\"{greeting} {user}\""
   ]
  },
  {
   "cell_type": "markdown",
   "id": "4d7cda94-2f8f-4386-8be4-7625798a99b8",
   "metadata": {
    "editable": true,
    "slideshow": {
     "slide_type": ""
    },
    "tags": []
   },
   "source": [
    "This would be a correct answer to this question, which you could place in the *Answer* cell."
   ]
  },
  {
   "cell_type": "markdown",
   "id": "024cac4e-eb2d-41c6-b991-4d498f456865",
   "metadata": {
    "editable": true,
    "slideshow": {
     "slide_type": ""
    },
    "tags": []
   },
   "source": [
    "## Problem: using math\n",
    "Use Python operators and the `math` module to calculate the expected amount of memorized material that will be forgotten after 100 minutes according to Ebbinghaus' formula for forgetting:\n",
    "\n",
    "$b = \\frac{k}{log_{10}(t)^{c} + k}$\n",
    "\n",
    "Hint: use `help(math)` to see the functions that are available in the math module."
   ]
  },
  {
   "cell_type": "markdown",
   "id": "87ba1b4f-52a6-4a53-b100-fd9ae0e0a04f",
   "metadata": {
    "editable": true,
    "slideshow": {
     "slide_type": ""
    },
    "tags": []
   },
   "source": [
    "### Setup"
   ]
  },
  {
   "cell_type": "code",
   "execution_count": 5,
   "id": "258ecd6d-fdfa-4800-a8ca-52cbdf22d309",
   "metadata": {
    "editable": false,
    "slideshow": {
     "slide_type": ""
    },
    "tags": []
   },
   "outputs": [],
   "source": [
    "import math\n",
    "t = 100  # 100 minutes\n",
    "c = 1.25  # value that Ebbinghaus estimated based on his forgetting data\n",
    "k = 1.84  # value that Ebbinghaus estimated based on his forgetting data\n",
    "b = None"
   ]
  },
  {
   "cell_type": "markdown",
   "id": "3b1f113a-c67e-435e-b11b-d11f69faa61b",
   "metadata": {
    "editable": true,
    "slideshow": {
     "slide_type": ""
    },
    "tags": []
   },
   "source": [
    "### Answer"
   ]
  },
  {
   "cell_type": "code",
   "execution_count": 6,
   "id": "ea33921c-3d5c-4042-9194-23712073c492",
   "metadata": {
    "editable": true,
    "slideshow": {
     "slide_type": ""
    },
    "tags": []
   },
   "outputs": [],
   "source": [
    "# your code here"
   ]
  },
  {
   "cell_type": "markdown",
   "id": "2509234f-5945-4326-a498-76cd29137694",
   "metadata": {
    "editable": true,
    "slideshow": {
     "slide_type": ""
    },
    "tags": []
   },
   "source": [
    "### Result"
   ]
  },
  {
   "cell_type": "code",
   "execution_count": 7,
   "id": "20d19cb8-e848-47d5-ad04-a1d1f835821c",
   "metadata": {
    "editable": false,
    "slideshow": {
     "slide_type": ""
    },
    "tags": []
   },
   "outputs": [
    {
     "name": "stdout",
     "output_type": "stream",
     "text": [
      "None\n"
     ]
    }
   ],
   "source": [
    "print(b)"
   ]
  },
  {
   "cell_type": "markdown",
   "id": "549c17fd-a877-4611-9e2e-ac09ab4d31b0",
   "metadata": {
    "editable": true,
    "slideshow": {
     "slide_type": ""
    },
    "tags": []
   },
   "source": [
    "## Problem: making a dictionary of lists\n",
    "Say that you have data for three participants in a psychology study. Each participant has an identifier, age, and accuracy on a memory test.\n",
    "\n",
    "| participant_id | age | accuracy |\n",
    "| -------------- | --- | -------- |\n",
    "| 001            | 24  | 0.85     |\n",
    "| 002            | 21  | 0.72     |\n",
    "| 003            | 33  | 0.92     |\n",
    "\n",
    "Create a dictionary called `data` with three keys: `\"participant_id\"`, `\"age\"`, and `\"accuracy\"`. The values of each key should be a list with the values for that column in the above table. The `participant_id` list should contain strings. The `age` list should contain integers. The `accuracy` list should contain floats. \n",
    "\n",
    "Place your code in the cell below, before the `print(data)` line."
   ]
  },
  {
   "cell_type": "markdown",
   "id": "0a715b96-0ff7-4251-8025-3060c130f9c9",
   "metadata": {
    "editable": true,
    "slideshow": {
     "slide_type": ""
    },
    "tags": []
   },
   "source": [
    "### Setup"
   ]
  },
  {
   "cell_type": "code",
   "execution_count": 8,
   "id": "e36744f9-b666-49c1-9779-a7945a9f3986",
   "metadata": {
    "editable": false,
    "slideshow": {
     "slide_type": ""
    },
    "tags": []
   },
   "outputs": [],
   "source": [
    "data = None"
   ]
  },
  {
   "cell_type": "markdown",
   "id": "f3e597d2-ee23-4c02-a41a-1c5b70340bab",
   "metadata": {
    "editable": true,
    "slideshow": {
     "slide_type": ""
    },
    "tags": []
   },
   "source": [
    "### Answer"
   ]
  },
  {
   "cell_type": "code",
   "execution_count": 9,
   "id": "d321eaad-6c9f-4347-bddf-21842fff0340",
   "metadata": {
    "editable": true,
    "slideshow": {
     "slide_type": ""
    },
    "tags": []
   },
   "outputs": [],
   "source": [
    "# your code here"
   ]
  },
  {
   "cell_type": "markdown",
   "id": "820b77ce-13ee-407c-a4a3-fdb3c5fd188c",
   "metadata": {
    "editable": true,
    "slideshow": {
     "slide_type": ""
    },
    "tags": []
   },
   "source": [
    "### Result"
   ]
  },
  {
   "cell_type": "code",
   "execution_count": 10,
   "id": "d2d6995c-9807-4fce-9846-068eeefedbe2",
   "metadata": {
    "editable": false,
    "slideshow": {
     "slide_type": ""
    },
    "tags": []
   },
   "outputs": [
    {
     "name": "stdout",
     "output_type": "stream",
     "text": [
      "None\n"
     ]
    }
   ],
   "source": [
    "print(data)"
   ]
  },
  {
   "cell_type": "markdown",
   "id": "ebe83486-f1bf-4b0c-86b0-44dfbbf7c16f",
   "metadata": {
    "editable": true,
    "slideshow": {
     "slide_type": ""
    },
    "tags": []
   },
   "source": [
    "## Problem: using functions\n",
    "Write a function called `calculate_mean` that takes in a list of response times (in seconds) and calculates the mean. The mean is defined as the sum divided by the number of samples. Use your function to calculate mean response time in two different conditions."
   ]
  },
  {
   "cell_type": "markdown",
   "id": "826c38fc-bb80-4cfc-9439-61370358eb1f",
   "metadata": {
    "editable": true,
    "slideshow": {
     "slide_type": ""
    },
    "tags": []
   },
   "source": [
    "### Setup"
   ]
  },
  {
   "cell_type": "code",
   "execution_count": 11,
   "id": "8d4275d5-5309-4ad6-a699-686da9800dc8",
   "metadata": {
    "editable": false,
    "slideshow": {
     "slide_type": ""
    },
    "tags": []
   },
   "outputs": [],
   "source": [
    "response_time1 = [1.5, 2.1, 2.3, 1.8]  # response times (s) in condition 1\n",
    "response_time2 = [1.7, 4.1, 1.3, 1.5]  # response times (s) in condition 2\n",
    "mean1 = None  # mean for condition 1\n",
    "mean2 = None  # mean for condition 2"
   ]
  },
  {
   "cell_type": "markdown",
   "id": "34f724ca-61e6-44ec-aecd-a23f4a37f1cc",
   "metadata": {
    "editable": true,
    "slideshow": {
     "slide_type": ""
    },
    "tags": []
   },
   "source": [
    "### Answer"
   ]
  },
  {
   "cell_type": "code",
   "execution_count": 12,
   "id": "a0ad1c65-d8c9-4bb0-8313-b7c136ec8b7b",
   "metadata": {
    "editable": true,
    "slideshow": {
     "slide_type": ""
    },
    "tags": []
   },
   "outputs": [],
   "source": [
    "# your code here"
   ]
  },
  {
   "cell_type": "markdown",
   "id": "ed091fc1-fd6f-4939-b026-332082e1f3fb",
   "metadata": {
    "editable": true,
    "slideshow": {
     "slide_type": ""
    },
    "tags": []
   },
   "source": [
    "### Result"
   ]
  },
  {
   "cell_type": "code",
   "execution_count": 13,
   "id": "f04aaabd-6d56-4da4-b9d4-226dec8b9663",
   "metadata": {
    "editable": false,
    "slideshow": {
     "slide_type": ""
    },
    "tags": []
   },
   "outputs": [
    {
     "name": "stdout",
     "output_type": "stream",
     "text": [
      "None None\n"
     ]
    }
   ],
   "source": [
    "print(mean1, mean2)"
   ]
  }
 ],
 "metadata": {
  "kernelspec": {
   "display_name": "datascipsych",
   "language": "python",
   "name": "datascipsych"
  },
  "language_info": {
   "codemirror_mode": {
    "name": "ipython",
    "version": 3
   },
   "file_extension": ".py",
   "mimetype": "text/x-python",
   "name": "python",
   "nbconvert_exporter": "python",
   "pygments_lexer": "ipython3",
   "version": "3.12.8"
  }
 },
 "nbformat": 4,
 "nbformat_minor": 5
}
