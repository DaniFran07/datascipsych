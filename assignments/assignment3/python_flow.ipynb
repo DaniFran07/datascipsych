{
 "cells": [
  {
   "cell_type": "markdown",
   "id": "0c1c9b57-6b5f-4b30-9d3f-ab6a603d10e5",
   "metadata": {
    "editable": true,
    "slideshow": {
     "slide_type": "slide"
    },
    "tags": []
   },
   "source": [
    "# Python control flow\n",
    "\n",
    "Programs are shaped by control flow, which determines which commands run at which times. Python programs frequently rely on a few key mechanisms of control flow."
   ]
  },
  {
   "cell_type": "markdown",
   "id": "30645299-d367-4f1c-be31-6fbf5bbffae4",
   "metadata": {
    "editable": true,
    "slideshow": {
     "slide_type": "slide"
    },
    "tags": []
   },
   "source": [
    "## Functions\n",
    "\n",
    "A key method for running programs involves defining a *function* that runs some code to complete some purpose. This function can then be used whenever you need to complete that task.\n",
    "\n",
    "```python\n",
    "output1, output2, ... = function_name(input1, input2, ...)\n",
    "```\n",
    "\n",
    "Functions help you follow the DRY principle: Don't Repeat Yourself. Beginners often do a lot of copying and pasting code. But this can lead to programs that are harder to read, debug, and improve, because they have a lot of redundancy."
   ]
  },
  {
   "cell_type": "markdown",
   "id": "f3a6dcc0-b2b8-4b7b-867c-d91ac2990cc6",
   "metadata": {
    "editable": true,
    "slideshow": {
     "slide_type": "slide"
    },
    "tags": []
   },
   "source": [
    "We can make a new function using the `def` keyword.\n",
    "\n",
    "```python\n",
    "def function_name(input1, input2):\n",
    "    # code to calculate some output\n",
    "    return output1, output2\n",
    "```\n",
    "\n",
    "Usually, functions have two parts: inputs (also known as *arguments*) and outputs. The `return` statement determines the output(s) of the function."
   ]
  },
  {
   "cell_type": "markdown",
   "id": "7bb4e8f2-c81f-4e7b-8019-8d200ccd658f",
   "metadata": {
    "editable": true,
    "slideshow": {
     "slide_type": "slide"
    },
    "tags": []
   },
   "source": [
    "We can use functions to repeat things we need to do multiple times. Say that we have data for multiple participants, and we want to be able to print a summary for a given participant."
   ]
  },
  {
   "cell_type": "code",
   "execution_count": 8,
   "id": "fb5137d5-6024-4d3e-9734-4b4eb39e61fa",
   "metadata": {
    "editable": true,
    "slideshow": {
     "slide_type": ""
    },
    "tags": []
   },
   "outputs": [],
   "source": [
    "# data for each participant\n",
    "data1 = {\"id\": \"001\", \"accuracy\": 0.82, \"response_time\": 4.2}\n",
    "data2 = {\"id\": \"002\", \"accuracy\": 0.53, \"response_time\": 3.2}"
   ]
  },
  {
   "cell_type": "markdown",
   "id": "9567c1b2-c211-46d4-91de-f3f2ad6c3062",
   "metadata": {
    "editable": true,
    "slideshow": {
     "slide_type": ""
    },
    "tags": []
   },
   "source": [
    "We can use a function to make this convenient."
   ]
  },
  {
   "cell_type": "code",
   "execution_count": 10,
   "id": "eb0a3da3-996b-49dd-9f11-bd40f3c834ff",
   "metadata": {
    "editable": true,
    "slideshow": {
     "slide_type": ""
    },
    "tags": []
   },
   "outputs": [
    {
     "name": "stdout",
     "output_type": "stream",
     "text": [
      "sub-001: 82%, 4.2s\n",
      "sub-002: 53%, 3.2s\n"
     ]
    }
   ],
   "source": [
    "def summarize(data):\n",
    "    percent = round(data[\"accuracy\"] * 100)\n",
    "    print(f\"sub-{data[\"id\"]}: {percent}%, {data[\"response_time\"]}s\")\n",
    "\n",
    "summarize(data1)\n",
    "summarize(data2)"
   ]
  },
  {
   "cell_type": "markdown",
   "id": "f29b7889-c7a9-4333-b5c2-40356fa1b208",
   "metadata": {
    "editable": true,
    "slideshow": {
     "slide_type": "slide"
    },
    "tags": []
   },
   "source": [
    "## Modules\n",
    "\n",
    "In addition to the basic Python syntax and commands, more tools can be accessed using *modules*. Modules must be imported into your current *namespace* using the `import` statement.\n",
    "\n",
    "For example, the `math` module has additional math functions that go beyond just simple arithmetic. We have to first import it to use it."
   ]
  },
  {
   "cell_type": "code",
   "execution_count": 50,
   "id": "f51f27e3-b33c-41b2-bfcc-49868a0289ef",
   "metadata": {
    "editable": true,
    "slideshow": {
     "slide_type": ""
    },
    "tags": []
   },
   "outputs": [
    {
     "name": "stdout",
     "output_type": "stream",
     "text": [
      "4\n"
     ]
    }
   ],
   "source": [
    "import math\n",
    "memory_delay_days = 3.3\n",
    "memory_delay_ceil = math.ceil(memory_delay_days)\n",
    "print(memory_delay_ceil)"
   ]
  },
  {
   "cell_type": "markdown",
   "id": "c268075e-af58-42b9-9cc0-17df12077aa5",
   "metadata": {
    "editable": true,
    "slideshow": {
     "slide_type": ""
    },
    "tags": []
   },
   "source": [
    "Use the `help` function to see more information about the `math` module."
   ]
  },
  {
   "cell_type": "markdown",
   "id": "a181f6ea-ac64-4b84-ba25-3422ca79ddd3",
   "metadata": {
    "editable": true,
    "slideshow": {
     "slide_type": "slide"
    },
    "tags": []
   },
   "source": [
    "There are multiple ways to import things from modules that give you some flexibility. You can import a specific function or functions from a module."
   ]
  },
  {
   "cell_type": "code",
   "execution_count": 51,
   "id": "fbfffde6-93cb-455b-9d3e-abd1209a88bd",
   "metadata": {
    "editable": true,
    "slideshow": {
     "slide_type": ""
    },
    "tags": []
   },
   "outputs": [
    {
     "name": "stdout",
     "output_type": "stream",
     "text": [
      "3\n"
     ]
    }
   ],
   "source": [
    "from math import ceil, floor\n",
    "print(floor(memory_delay_days))"
   ]
  },
  {
   "cell_type": "markdown",
   "id": "b9840a11-eba4-4c4a-aa82-f1864d72f7d2",
   "metadata": {
    "editable": true,
    "slideshow": {
     "slide_type": ""
    },
    "tags": []
   },
   "source": [
    "You can give a module a different name when importing it. This is often a good idea when the module name is long."
   ]
  },
  {
   "cell_type": "code",
   "execution_count": 52,
   "id": "28633224-424d-42c4-9fc1-952f8a68f5ba",
   "metadata": {
    "editable": true,
    "slideshow": {
     "slide_type": ""
    },
    "tags": []
   },
   "outputs": [
    {
     "name": "stdout",
     "output_type": "stream",
     "text": [
      "0.8775825618903728\n"
     ]
    }
   ],
   "source": [
    "import math as mt\n",
    "print(mt.cos(.5))"
   ]
  },
  {
   "cell_type": "markdown",
   "id": "02bd46e1-5816-49f6-acfc-abd6c8feffef",
   "metadata": {
    "editable": true,
    "slideshow": {
     "slide_type": ""
    },
    "tags": []
   },
   "source": [
    "There are conventions for short names to use for some modules. For the `math` module, most people don't rename it, because it's already pretty short."
   ]
  },
  {
   "cell_type": "markdown",
   "id": "cfd3e472-1ea1-447f-b109-7a3e04f300a1",
   "metadata": {
    "editable": true,
    "slideshow": {
     "slide_type": "slide"
    },
    "tags": []
   },
   "source": [
    "## If statements\n",
    "\n",
    "Sometimes, we need to decide between multiple commands to run, depending on the conditions. To do this, we can write an *if* statement.\n",
    "\n",
    "They follow this syntax:\n",
    "```python\n",
    "if condition:\n",
    "    code_to_run\n",
    "elif other_condition:\n",
    "    different_code\n",
    "else:\n",
    "    code_if_neither_condition_true\n",
    "```"
   ]
  },
  {
   "cell_type": "markdown",
   "id": "707ac7af-cd18-4216-8f88-fc8ca4ef8f23",
   "metadata": {
    "editable": true,
    "slideshow": {
     "slide_type": ""
    },
    "tags": []
   },
   "source": [
    "For example, if we needed to "
   ]
  },
  {
   "cell_type": "markdown",
   "id": "5820609b-a90c-42da-8b7c-b87fbe083fba",
   "metadata": {
    "editable": true,
    "slideshow": {
     "slide_type": "slide"
    },
    "tags": []
   },
   "source": [
    "## For loops\n",
    "\n",
    "When we need to iterate over some list of things, we can use a *for* loop."
   ]
  },
  {
   "cell_type": "markdown",
   "id": "6dc778a3-6473-4a08-84b5-6d0a6978768a",
   "metadata": {
    "editable": true,
    "slideshow": {
     "slide_type": "slide"
    },
    "tags": []
   },
   "source": [
    "### List comprehensions\n",
    "\n",
    "A common use of *for* loops is to generate a list. In this case, we can instead use a *list comprehension*."
   ]
  },
  {
   "cell_type": "markdown",
   "id": "8ed92d19-80ae-432b-8b26-0053f21e4c4d",
   "metadata": {
    "editable": true,
    "slideshow": {
     "slide_type": ""
    },
    "tags": []
   },
   "source": [
    "### Dict comprehensions\n",
    "\n",
    "A similar method can be used to generate dictionaries using a *dict comprehension*."
   ]
  },
  {
   "cell_type": "markdown",
   "id": "08caf8d5-f865-424b-b531-42ca6dd93053",
   "metadata": {
    "editable": true,
    "slideshow": {
     "slide_type": "slide"
    },
    "tags": []
   },
   "source": [
    "## While loops\n",
    "\n",
    "There is also a different option of *while* loops, which can be used when we want to repeat something as long as some condition applies."
   ]
  },
  {
   "cell_type": "markdown",
   "id": "49113edc-5123-48de-a165-1572019afb1b",
   "metadata": {
    "editable": true,
    "jp-MarkdownHeadingCollapsed": true,
    "slideshow": {
     "slide_type": "slide"
    },
    "tags": []
   },
   "source": [
    "## Exceptions\n",
    "\n",
    "Sometimes a program is unable to run, often because of some problem with the inputs to that function. To deal with these cases, they can signal a problem by raising an *exception*.\n",
    "\n",
    "When an exception is raised, it will halt execution of the program unless it is handled using a *try/catch* statement."
   ]
  }
 ],
 "metadata": {
  "kernelspec": {
   "display_name": "datascipsych",
   "language": "python",
   "name": "datascipsych"
  },
  "language_info": {
   "codemirror_mode": {
    "name": "ipython",
    "version": 3
   },
   "file_extension": ".py",
   "mimetype": "text/x-python",
   "name": "python",
   "nbconvert_exporter": "python",
   "pygments_lexer": "ipython3",
   "version": "3.12.8"
  }
 },
 "nbformat": 4,
 "nbformat_minor": 5
}
