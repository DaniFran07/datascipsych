{
 "cells": [
  {
   "cell_type": "markdown",
   "id": "0c1c9b57-6b5f-4b30-9d3f-ab6a603d10e5",
   "metadata": {
    "editable": true,
    "slideshow": {
     "slide_type": "slide"
    },
    "tags": []
   },
   "source": [
    "# Python control flow\n",
    "\n",
    "Programs are shaped by control flow, which determines which commands run at which times. Python programs frequently rely on a few key mechanisms of control flow."
   ]
  },
  {
   "cell_type": "markdown",
   "id": "c9b9a0f3-3519-414e-a556-64e20ebaee27",
   "metadata": {
    "editable": true,
    "slideshow": {
     "slide_type": "slide"
    },
    "tags": []
   },
   "source": [
    "## Modules\n",
    "\n",
    "In addition to the basic Python syntax and commands, more tools can be accessed using *modules*. Modules must be imported into your current *namespace* using the `import` statement.\n",
    "\n",
    "For example, the `math` module has additional math functions that go beyond just simple arithmetic. We have to first import it to use it."
   ]
  },
  {
   "cell_type": "code",
   "execution_count": 1,
   "id": "f51f27e3-b33c-41b2-bfcc-49868a0289ef",
   "metadata": {
    "editable": true,
    "slideshow": {
     "slide_type": ""
    },
    "tags": []
   },
   "outputs": [
    {
     "name": "stdout",
     "output_type": "stream",
     "text": [
      "4\n"
     ]
    }
   ],
   "source": [
    "import math\n",
    "memory_delay_days = 3.3\n",
    "memory_delay_ceil = math.ceil(memory_delay_days)\n",
    "print(memory_delay_ceil)"
   ]
  },
  {
   "cell_type": "markdown",
   "id": "a25ac0c4-dda3-42fb-aca6-63e43f4fe835",
   "metadata": {
    "editable": true,
    "slideshow": {
     "slide_type": ""
    },
    "tags": []
   },
   "source": [
    "Use the `help` function to see more information about the `math` module."
   ]
  },
  {
   "cell_type": "markdown",
   "id": "9e2e8dc3-4deb-41d8-8a9f-5a87954a5435",
   "metadata": {
    "editable": true,
    "slideshow": {
     "slide_type": "slide"
    },
    "tags": []
   },
   "source": [
    "There are multiple ways to import things from modules that give you some flexibility. You can import a specific function or functions from a module."
   ]
  },
  {
   "cell_type": "code",
   "execution_count": 2,
   "id": "fbfffde6-93cb-455b-9d3e-abd1209a88bd",
   "metadata": {
    "editable": true,
    "slideshow": {
     "slide_type": ""
    },
    "tags": []
   },
   "outputs": [
    {
     "name": "stdout",
     "output_type": "stream",
     "text": [
      "3\n"
     ]
    }
   ],
   "source": [
    "from math import ceil, floor\n",
    "print(floor(memory_delay_days))"
   ]
  },
  {
   "cell_type": "markdown",
   "id": "7f9d4161-0de1-4119-bbaf-1998f9e9ef92",
   "metadata": {
    "editable": true,
    "slideshow": {
     "slide_type": ""
    },
    "tags": []
   },
   "source": [
    "You can give a module a different name when importing it. This is often a good idea when the module name is long."
   ]
  },
  {
   "cell_type": "code",
   "execution_count": 3,
   "id": "28633224-424d-42c4-9fc1-952f8a68f5ba",
   "metadata": {
    "editable": true,
    "slideshow": {
     "slide_type": ""
    },
    "tags": []
   },
   "outputs": [
    {
     "name": "stdout",
     "output_type": "stream",
     "text": [
      "1.6487212707001282\n"
     ]
    }
   ],
   "source": [
    "import math as mt\n",
    "print(mt.exp(.5))"
   ]
  },
  {
   "cell_type": "markdown",
   "id": "b0329bb1-5e78-4e86-a6c9-8ace2969178b",
   "metadata": {
    "editable": true,
    "slideshow": {
     "slide_type": ""
    },
    "tags": []
   },
   "source": [
    "There are conventions for short names to use for some modules. For the `math` module, most people don't rename it, because it's already pretty short."
   ]
  },
  {
   "cell_type": "markdown",
   "id": "b4dd067b-36c3-4fcc-8f46-ac2bca6cf193",
   "metadata": {
    "editable": true,
    "slideshow": {
     "slide_type": "slide"
    },
    "tags": []
   },
   "source": [
    "### Exercise: modules\n",
    "Use the `math` module to calculate $cos(\\pi)$. Run `help(math)` to see a summary of the functions and variables available. See the DATA section at the end, which defines some standard mathematical constants."
   ]
  },
  {
   "cell_type": "code",
   "execution_count": 4,
   "id": "a8691e61-a336-48cd-9a78-f7f98104ce9e",
   "metadata": {
    "editable": true,
    "slideshow": {
     "slide_type": ""
    },
    "tags": []
   },
   "outputs": [],
   "source": [
    "# answer here"
   ]
  },
  {
   "cell_type": "markdown",
   "id": "30645299-d367-4f1c-be31-6fbf5bbffae4",
   "metadata": {
    "editable": true,
    "slideshow": {
     "slide_type": "slide"
    },
    "tags": []
   },
   "source": [
    "## Functions\n",
    "\n",
    "A key method for running programs involves defining a *function* that runs some code to complete some purpose. This function can then be used whenever you need to complete that task.\n",
    "\n",
    "```python\n",
    "output1, output2, ... = function_name(input1, input2, ...)\n",
    "```\n",
    "\n",
    "Functions help you follow the DRY principle: Don't Repeat Yourself. Beginners often do a lot of copying and pasting code. But this can lead to programs that are harder to read, debug, and improve, because they have a lot of redundancy."
   ]
  },
  {
   "cell_type": "markdown",
   "id": "f3a6dcc0-b2b8-4b7b-867c-d91ac2990cc6",
   "metadata": {
    "editable": true,
    "slideshow": {
     "slide_type": "slide"
    },
    "tags": []
   },
   "source": [
    "We can make a new function using the `def` keyword.\n",
    "\n",
    "```python\n",
    "def function_name(input1, input2):\n",
    "    # code to calculate some output\n",
    "    return output1, output2\n",
    "```\n",
    "\n",
    "Usually, functions have two parts: inputs (also known as *arguments*) and outputs. The `return` statement determines the output(s) of the function."
   ]
  },
  {
   "cell_type": "markdown",
   "id": "0ff55a0d-1d4a-4619-b930-d565bc7fb766",
   "metadata": {
    "editable": true,
    "slideshow": {
     "slide_type": "slide"
    },
    "tags": []
   },
   "source": [
    "Let's make a really simple function that takes in a number and doubles it."
   ]
  },
  {
   "cell_type": "code",
   "execution_count": 5,
   "id": "14130a0f-983d-4ddf-9514-ab7739cc8bc2",
   "metadata": {},
   "outputs": [],
   "source": [
    "def double(x):\n",
    "    return x * 2"
   ]
  },
  {
   "cell_type": "markdown",
   "id": "a9df0df8-3471-409e-93f1-c0c695b8592c",
   "metadata": {
    "editable": true,
    "slideshow": {
     "slide_type": "fragment"
    },
    "tags": []
   },
   "source": [
    "Now that we've defined this function, we can call it the same as any built-in Python function."
   ]
  },
  {
   "cell_type": "code",
   "execution_count": 6,
   "id": "1a80f29e-1471-4678-8f64-2b1b417aba94",
   "metadata": {
    "editable": true,
    "slideshow": {
     "slide_type": ""
    },
    "tags": []
   },
   "outputs": [
    {
     "name": "stdout",
     "output_type": "stream",
     "text": [
      "8\n"
     ]
    }
   ],
   "source": [
    "x = 2\n",
    "y = double(4)\n",
    "print(y)"
   ]
  },
  {
   "cell_type": "markdown",
   "id": "96064044-5bc8-4d82-8e7f-087041f90d4d",
   "metadata": {
    "editable": true,
    "slideshow": {
     "slide_type": "slide"
    },
    "tags": []
   },
   "source": [
    "The `x` in the definition of the `double` function is just a name that's used in the function. When we're calling the function, we can name the variable whatever we want..."
   ]
  },
  {
   "cell_type": "code",
   "execution_count": 7,
   "id": "ea9c55a3-f72c-4eb2-bff4-7c6bf95041d0",
   "metadata": {
    "editable": true,
    "slideshow": {
     "slide_type": ""
    },
    "tags": []
   },
   "outputs": [
    {
     "name": "stdout",
     "output_type": "stream",
     "text": [
      "20\n"
     ]
    }
   ],
   "source": [
    "z = 10\n",
    "print(double(z))"
   ]
  },
  {
   "cell_type": "markdown",
   "id": "aac9e86a-ef06-4d74-a021-16c27e65a4c4",
   "metadata": {
    "editable": true,
    "slideshow": {
     "slide_type": "fragment"
    },
    "tags": []
   },
   "source": [
    "Or not give it a name at all and just input a number directly into the function without assigning it to a variable first."
   ]
  },
  {
   "cell_type": "code",
   "execution_count": 8,
   "id": "47ad4fc2-2d0d-43cd-81ba-41fe839e2b7c",
   "metadata": {
    "editable": true,
    "slideshow": {
     "slide_type": ""
    },
    "tags": []
   },
   "outputs": [
    {
     "name": "stdout",
     "output_type": "stream",
     "text": [
      "18000\n"
     ]
    }
   ],
   "source": [
    "print(double(9000))"
   ]
  },
  {
   "cell_type": "markdown",
   "id": "7bb4e8f2-c81f-4e7b-8019-8d200ccd658f",
   "metadata": {
    "editable": true,
    "slideshow": {
     "slide_type": "slide"
    },
    "tags": []
   },
   "source": [
    "We can use functions to repeat things we need to do multiple times. Say that we have data for multiple participants, and we want to be able to print a summary for a given participant."
   ]
  },
  {
   "cell_type": "code",
   "execution_count": 9,
   "id": "fb5137d5-6024-4d3e-9734-4b4eb39e61fa",
   "metadata": {
    "editable": true,
    "slideshow": {
     "slide_type": ""
    },
    "tags": []
   },
   "outputs": [],
   "source": [
    "# data for each participant\n",
    "data1 = {\"id\": \"001\", \"accuracy\": 0.82, \"response_time\": 4.2}\n",
    "data2 = {\"id\": \"002\", \"accuracy\": 0.53, \"response_time\": 3.2}"
   ]
  },
  {
   "cell_type": "markdown",
   "id": "9567c1b2-c211-46d4-91de-f3f2ad6c3062",
   "metadata": {
    "editable": true,
    "slideshow": {
     "slide_type": "fragment"
    },
    "tags": []
   },
   "source": [
    "We can use a function to make this convenient."
   ]
  },
  {
   "cell_type": "code",
   "execution_count": 10,
   "id": "eb0a3da3-996b-49dd-9f11-bd40f3c834ff",
   "metadata": {
    "editable": true,
    "slideshow": {
     "slide_type": ""
    },
    "tags": []
   },
   "outputs": [
    {
     "name": "stdout",
     "output_type": "stream",
     "text": [
      "sub-001: 82%, 4.2s\n",
      "sub-002: 53%, 3.2s\n"
     ]
    }
   ],
   "source": [
    "def summarize(data):\n",
    "    percent = round(data[\"accuracy\"] * 100)\n",
    "    print(f\"sub-{data[\"id\"]}: {percent}%, {data[\"response_time\"]}s\")\n",
    "\n",
    "summarize(data1)\n",
    "summarize(data2)"
   ]
  },
  {
   "cell_type": "markdown",
   "id": "d3736102-5d26-46ee-a0df-94397fcfcdf3",
   "metadata": {
    "editable": true,
    "slideshow": {
     "slide_type": "slide"
    },
    "tags": []
   },
   "source": [
    "Functions can take in multiple inputs and return multiple outputs."
   ]
  },
  {
   "cell_type": "code",
   "execution_count": 11,
   "id": "9a8857a4-703d-49b1-b955-b4f918343ca1",
   "metadata": {
    "editable": true,
    "slideshow": {
     "slide_type": ""
    },
    "tags": []
   },
   "outputs": [],
   "source": [
    "def double_double(x, y):\n",
    "    return x * 2, y * 2"
   ]
  },
  {
   "cell_type": "markdown",
   "id": "5efb977f-77dc-4835-ac73-1eb97cbfef96",
   "metadata": {
    "editable": true,
    "slideshow": {
     "slide_type": "fragment"
    },
    "tags": []
   },
   "source": [
    "If we call this function, we'll get two values back."
   ]
  },
  {
   "cell_type": "code",
   "execution_count": 12,
   "id": "f10e36e4-9149-41dd-adff-5e0118c43d49",
   "metadata": {
    "editable": true,
    "slideshow": {
     "slide_type": ""
    },
    "tags": []
   },
   "outputs": [
    {
     "name": "stdout",
     "output_type": "stream",
     "text": [
      "4 8\n"
     ]
    }
   ],
   "source": [
    "x = 2\n",
    "y = 4\n",
    "a, b = double_double(x, y)\n",
    "print(a, b)"
   ]
  },
  {
   "cell_type": "markdown",
   "id": "f07a625e-b25e-4750-adc1-132687d9e52f",
   "metadata": {
    "editable": true,
    "slideshow": {
     "slide_type": "slide"
    },
    "tags": []
   },
   "source": [
    "### Exercise: functions\n",
    "Create a function called `square` that will take in some variable $x$ and calculate $x^2$. In Python, you can square a variable using `x ** 2`. Use it to calculate the squares of 2, 3, and 4.\n",
    "\n",
    "Create another function called `add_three` that takes in three variables $x$, $y$, and $z$ and returns $x + y + z$. Use it to add 2, 3, and 4 together.\n",
    "\n",
    "#### Advanced\n",
    "Creat a function called `add_multiple` that takes in a variable amount of numbers and adds them all together. If you define a function like `def myfunction(*args):`, then the variable `args` will be a tuple with whatever variables the user passed in. The built-in function `sum` will sum together a list or tuple of numbers."
   ]
  },
  {
   "cell_type": "markdown",
   "id": "9cdd8048-45e9-4a89-875b-5d7b17e5ee4b",
   "metadata": {
    "editable": true,
    "slideshow": {
     "slide_type": "slide"
    },
    "tags": []
   },
   "source": [
    "## Function arguments\n",
    "There are two types of arguments to functions: *positional* arguments, like we've used so far; and *keyword* arguments, which have names attached to them. Keyword arguments make it so we can label arguments when we're defining a function. This can sometimes make it easier to see what we're trying to do when calling a function. It also means that we don't have to specify all the inputs; we can leave some as their default values instead.\n",
    "\n",
    "```python\n",
    "def myfunction(pos1, pos2, pos3, kw1=\"default\", kw2=42):\n",
    "    ...\n",
    "```\n",
    "\n",
    "In this example, there are three positional arguments, which are required, and two optional keyword arguments, which default to `\"default\"` and `42` if they are not specified."
   ]
  },
  {
   "cell_type": "markdown",
   "id": "79715ad6-4e2a-4efc-be27-dbdd5b645243",
   "metadata": {
    "editable": true,
    "slideshow": {
     "slide_type": "slide"
    },
    "tags": []
   },
   "source": [
    "Let's use a keyword argument to set a default value for a function. We'll multiple an input by 3 by default."
   ]
  },
  {
   "cell_type": "code",
   "execution_count": 13,
   "id": "0009e752-f71d-443d-9bc8-79f5888c594a",
   "metadata": {
    "editable": true,
    "slideshow": {
     "slide_type": ""
    },
    "tags": []
   },
   "outputs": [
    {
     "name": "stdout",
     "output_type": "stream",
     "text": [
      "12\n"
     ]
    }
   ],
   "source": [
    "def mult_three_default(x, mult=3):\n",
    "    return x * mult\n",
    "\n",
    "print(mult_three_default(4))"
   ]
  },
  {
   "cell_type": "markdown",
   "id": "1cdd5735-c85b-4e2a-a744-8a4079203479",
   "metadata": {
    "editable": true,
    "slideshow": {
     "slide_type": "fragment"
    },
    "tags": []
   },
   "source": [
    "We can also change the default value that we multiply by, in two ways. We can either specify it by just putting a value in the second position when calling the function:"
   ]
  },
  {
   "cell_type": "code",
   "execution_count": 14,
   "id": "452b32ff-a130-40b2-be57-656f61f5f70a",
   "metadata": {
    "editable": true,
    "slideshow": {
     "slide_type": ""
    },
    "tags": []
   },
   "outputs": [
    {
     "name": "stdout",
     "output_type": "stream",
     "text": [
      "400\n"
     ]
    }
   ],
   "source": [
    "print(mult_three_default(4, 100))"
   ]
  },
  {
   "cell_type": "markdown",
   "id": "2a1b75ce-efe6-4add-88c1-2f5fafc0fb87",
   "metadata": {
    "editable": true,
    "slideshow": {
     "slide_type": "fragment"
    },
    "tags": []
   },
   "source": [
    "Or we can specify the keyword explicitly:"
   ]
  },
  {
   "cell_type": "code",
   "execution_count": 15,
   "id": "0550eb8c-7ae5-4255-ac4d-0881c240e49c",
   "metadata": {
    "editable": true,
    "slideshow": {
     "slide_type": ""
    },
    "tags": []
   },
   "outputs": [
    {
     "name": "stdout",
     "output_type": "stream",
     "text": [
      "400\n"
     ]
    }
   ],
   "source": [
    "print(mult_three_default(4, mult=100))"
   ]
  },
  {
   "cell_type": "markdown",
   "id": "e42937f8-ed00-4802-b28e-122c76a812a3",
   "metadata": {
    "editable": true,
    "slideshow": {
     "slide_type": "slide"
    },
    "tags": []
   },
   "source": [
    "If we have multiple keywords, we can just specify one, and the other one will use the default."
   ]
  },
  {
   "cell_type": "code",
   "execution_count": 16,
   "id": "ab6a0d4d-972b-4ad1-ac99-709d36533db5",
   "metadata": {
    "editable": true,
    "slideshow": {
     "slide_type": ""
    },
    "tags": []
   },
   "outputs": [
    {
     "name": "stdout",
     "output_type": "stream",
     "text": [
      "6\n",
      "12\n"
     ]
    }
   ],
   "source": [
    "def prod(x=2, y=3):\n",
    "    return x * y\n",
    "\n",
    "print(prod())\n",
    "print(prod(y=6))"
   ]
  },
  {
   "cell_type": "markdown",
   "id": "57c0fda3-ad24-400c-9ca8-54cc2d5f44e1",
   "metadata": {
    "editable": true,
    "slideshow": {
     "slide_type": ""
    },
    "tags": []
   },
   "source": [
    "### Exercise: function arguments\n",
    "Define two variables: `c = 1` and `d = 2`. Run `print(c, d)` and see what it prints. The `print` function has an option that determines how multiple variables are separated in the output. Run `help(print)` to see the documentation. Run `print` again, but this time set the `sep` keyword so that there is a comma between the arguments instead of a space.\n",
    "\n",
    "#### Advanced\n",
    "Like how you can capture multiple positional inputs using a star, like `*args`, it is also possible to capture multiple keyword arguments using a double star, like `**kwargs`. Write a function called `keywords` that takes in multiple keyword arguments and returns them. Try calling it with `keywords(a=1, b=2, c=3)`. What output do you get?"
   ]
  },
  {
   "cell_type": "code",
   "execution_count": 17,
   "id": "fc02e34d-858b-48f6-b2b4-b7a5f1ac5ab7",
   "metadata": {
    "editable": true,
    "slideshow": {
     "slide_type": ""
    },
    "tags": []
   },
   "outputs": [],
   "source": [
    "# answer here"
   ]
  },
  {
   "cell_type": "markdown",
   "id": "cfd3e472-1ea1-447f-b109-7a3e04f300a1",
   "metadata": {
    "editable": true,
    "slideshow": {
     "slide_type": "slide"
    },
    "tags": []
   },
   "source": [
    "## If statements\n",
    "\n",
    "Sometimes, we need to decide between multiple commands to run, depending on the conditions. To do this, we can write an *if* statement."
   ]
  },
  {
   "cell_type": "markdown",
   "id": "6a6c26b0-997e-4fd4-8241-955a222d29e5",
   "metadata": {},
   "source": [
    "The simplest form is to run some code, only if a condition is satisfied. For example, say if we want to check if one variable is larger than another and run some code only if it is."
   ]
  },
  {
   "cell_type": "code",
   "execution_count": 18,
   "id": "fb4d5688-bcf1-41f6-bf59-51f53900ac40",
   "metadata": {
    "editable": true,
    "slideshow": {
     "slide_type": ""
    },
    "tags": []
   },
   "outputs": [],
   "source": [
    "a = 5\n",
    "b = 8\n",
    "if a > b:\n",
    "    print(\"a is greater than b.\")"
   ]
  },
  {
   "cell_type": "markdown",
   "id": "63df78a4-d496-488f-b3a2-243473f70f36",
   "metadata": {
    "editable": true,
    "slideshow": {
     "slide_type": ""
    },
    "tags": []
   },
   "source": [
    "Because $a < b$, the code is not executed."
   ]
  },
  {
   "cell_type": "code",
   "execution_count": 19,
   "id": "4c371714-7b04-434c-8481-90402bf4a446",
   "metadata": {
    "editable": true,
    "slideshow": {
     "slide_type": ""
    },
    "tags": []
   },
   "outputs": [
    {
     "name": "stdout",
     "output_type": "stream",
     "text": [
      "b is greater than a.\n"
     ]
    }
   ],
   "source": [
    "if b > a:\n",
    "    print(\"b is greater than a.\")"
   ]
  },
  {
   "cell_type": "markdown",
   "id": "19298f47-868c-4e3d-957d-18f9a344d741",
   "metadata": {
    "editable": true,
    "slideshow": {
     "slide_type": ""
    },
    "tags": []
   },
   "source": [
    "Here, the code checks if $b>a$, finds that it is, and runs the code to print our message."
   ]
  },
  {
   "cell_type": "markdown",
   "id": "c704dc8a-dc34-46a7-bb15-6c4b7d2b85e0",
   "metadata": {
    "editable": true,
    "slideshow": {
     "slide_type": "slide"
    },
    "tags": []
   },
   "source": [
    "We can put these checks together using an `if/elif` statement. The `elif` keyword is short for \"else if\". Different conditions are checked in order. If the first condition is true, then the code in that block will be executed. If the first condition is false, then the `elif` condition will be checked. You can have as many `elif` conditions as you want."
   ]
  },
  {
   "cell_type": "code",
   "execution_count": 20,
   "id": "8b3e330f-0404-4fb3-9a9a-6ce7ed5a865e",
   "metadata": {
    "editable": true,
    "slideshow": {
     "slide_type": ""
    },
    "tags": []
   },
   "outputs": [
    {
     "name": "stdout",
     "output_type": "stream",
     "text": [
      "b is greater than a.\n"
     ]
    }
   ],
   "source": [
    "a = 5\n",
    "b = 8\n",
    "if a > b:\n",
    "    print(\"a is greater than b.\")\n",
    "elif b > a:\n",
    "    print(\"b is greater than a.\")"
   ]
  },
  {
   "cell_type": "markdown",
   "id": "6938664c-8a94-4547-8c2d-5c59498fefdb",
   "metadata": {
    "editable": true,
    "slideshow": {
     "slide_type": ""
    },
    "tags": []
   },
   "source": [
    "Finally, we can optionally also have an `else` block at the end. This will run code only if none of the other conditions were met."
   ]
  },
  {
   "cell_type": "code",
   "execution_count": 21,
   "id": "feb5c84d-2c34-4064-b655-f515eb3db12a",
   "metadata": {
    "editable": true,
    "slideshow": {
     "slide_type": ""
    },
    "tags": []
   },
   "outputs": [
    {
     "name": "stdout",
     "output_type": "stream",
     "text": [
      "a is equal to b.\n"
     ]
    }
   ],
   "source": [
    "a = 5\n",
    "b = 5\n",
    "if a > b:\n",
    "    print(\"a is greater than b.\")\n",
    "elif b > a:\n",
    "    print(\"b is greater than a.\")\n",
    "else:\n",
    "    print(\"a is equal to b.\")"
   ]
  },
  {
   "cell_type": "markdown",
   "id": "bb5525c2-70d7-4934-b234-4dec12772eb5",
   "metadata": {
    "editable": true,
    "slideshow": {
     "slide_type": ""
    },
    "tags": []
   },
   "source": [
    "To summarize, the syntax for `if/elif/else` statements is:\n",
    "\n",
    "```python\n",
    "if condition:\n",
    "    code_to_run\n",
    "elif other_condition:\n",
    "    different_code\n",
    "else:\n",
    "    code_if_neither_condition_true\n",
    "```"
   ]
  },
  {
   "cell_type": "markdown",
   "id": "82582f80-e3b9-4de7-8786-1f19dcfaff06",
   "metadata": {
    "editable": true,
    "slideshow": {
     "slide_type": "slide"
    },
    "tags": []
   },
   "source": [
    "The various parts of an `if/elif/else` statement can take any *expression* that returns a *boolean* value (that is, `True` or `False`). You can get a boolean using tests of equality (using `==` to test if two variables have the same value, or `!=` to test if they have different values) or inequalities (`<`, `>`, `<=`, `>=`)."
   ]
  },
  {
   "cell_type": "code",
   "execution_count": 22,
   "id": "801c7645-dd94-47ac-a894-6bee01aa9cf0",
   "metadata": {
    "editable": true,
    "slideshow": {
     "slide_type": "fragment"
    },
    "tags": []
   },
   "outputs": [
    {
     "name": "stdout",
     "output_type": "stream",
     "text": [
      "False\n",
      "True\n",
      "True\n"
     ]
    }
   ],
   "source": [
    "number = 4\n",
    "string = \"name\"\n",
    "print(number < 3)\n",
    "print(string == \"name\")\n",
    "print(string != \"names\")"
   ]
  },
  {
   "cell_type": "markdown",
   "id": "b4546662-6524-47b6-9b26-5211e42514a1",
   "metadata": {
    "editable": true,
    "slideshow": {
     "slide_type": ""
    },
    "tags": []
   },
   "source": [
    "### Exercise: if statements\n",
    "Define a function called `greet` prints out a greeting. It should take one input called `user`. If the user is `\"Mark\"`, print `\"Hi, Mark S.!`. If the user is `\"Helena\"`, print `\"Hello, Helly R.\"` \n",
    "\n",
    "#### Advanced\n",
    "Add an `else` block so that, if the user is anyone else, the function will use an f-string to print `\"Greetings, [user].\"`"
   ]
  },
  {
   "cell_type": "code",
   "execution_count": 23,
   "id": "83083473-9773-4a29-bddb-e6c0f1671ad4",
   "metadata": {
    "editable": true,
    "slideshow": {
     "slide_type": ""
    },
    "tags": []
   },
   "outputs": [],
   "source": [
    "# answer here"
   ]
  },
  {
   "cell_type": "markdown",
   "id": "5820609b-a90c-42da-8b7c-b87fbe083fba",
   "metadata": {
    "editable": true,
    "slideshow": {
     "slide_type": "slide"
    },
    "tags": []
   },
   "source": [
    "## For loops\n",
    "\n",
    "When we need to iterate over some list of things, we can use a *for* loop."
   ]
  },
  {
   "cell_type": "markdown",
   "id": "6dc778a3-6473-4a08-84b5-6d0a6978768a",
   "metadata": {
    "editable": true,
    "slideshow": {
     "slide_type": "slide"
    },
    "tags": []
   },
   "source": [
    "### List comprehensions\n",
    "\n",
    "A common use of *for* loops is to generate a list. In this case, we can instead use a *list comprehension*."
   ]
  },
  {
   "cell_type": "markdown",
   "id": "8ed92d19-80ae-432b-8b26-0053f21e4c4d",
   "metadata": {
    "editable": true,
    "slideshow": {
     "slide_type": ""
    },
    "tags": []
   },
   "source": [
    "### Dict comprehensions\n",
    "\n",
    "A similar method can be used to generate dictionaries using a *dict comprehension*."
   ]
  },
  {
   "cell_type": "markdown",
   "id": "08caf8d5-f865-424b-b531-42ca6dd93053",
   "metadata": {
    "editable": true,
    "slideshow": {
     "slide_type": "slide"
    },
    "tags": []
   },
   "source": [
    "## While loops\n",
    "\n",
    "There is also a different option of *while* loops, which can be used when we want to repeat something as long as some condition applies."
   ]
  },
  {
   "cell_type": "markdown",
   "id": "49113edc-5123-48de-a165-1572019afb1b",
   "metadata": {
    "editable": true,
    "jp-MarkdownHeadingCollapsed": true,
    "slideshow": {
     "slide_type": "slide"
    },
    "tags": []
   },
   "source": [
    "## Exceptions\n",
    "\n",
    "Sometimes a program is unable to run, often because of some problem with the inputs to that function. To deal with these cases, they can signal a problem by raising an *exception*.\n",
    "\n",
    "When an exception is raised, it will halt execution of the program unless it is handled using a *try/catch* statement."
   ]
  }
 ],
 "metadata": {
  "kernelspec": {
   "display_name": "datascipsych",
   "language": "python",
   "name": "datascipsych"
  },
  "language_info": {
   "codemirror_mode": {
    "name": "ipython",
    "version": 3
   },
   "file_extension": ".py",
   "mimetype": "text/x-python",
   "name": "python",
   "nbconvert_exporter": "python",
   "pygments_lexer": "ipython3",
   "version": "3.12.8"
  }
 },
 "nbformat": 4,
 "nbformat_minor": 5
}
