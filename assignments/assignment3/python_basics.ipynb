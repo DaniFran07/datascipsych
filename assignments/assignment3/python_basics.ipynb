{
 "cells": [
  {
   "cell_type": "markdown",
   "id": "a0672550-f7de-4b0f-b14c-8f1e2b29ef9e",
   "metadata": {
    "editable": true,
    "slideshow": {
     "slide_type": ""
    },
    "tags": []
   },
   "source": [
    "# Python Basics"
   ]
  },
  {
   "cell_type": "markdown",
   "id": "eb43aad3-94c5-41b6-87e9-b83415c00193",
   "metadata": {
    "editable": true,
    "slideshow": {
     "slide_type": "slide"
    },
    "tags": []
   },
   "source": [
    "## Variables and Math\n",
    "Python can be used like a calculator, with the ability to store multiple named variables."
   ]
  },
  {
   "cell_type": "code",
   "execution_count": 1,
   "id": "9558636e-2832-4d9a-8cff-e3c1c1ff0515",
   "metadata": {
    "editable": true,
    "slideshow": {
     "slide_type": ""
    },
    "tags": []
   },
   "outputs": [
    {
     "data": {
      "text/plain": [
       "23"
      ]
     },
     "execution_count": 1,
     "metadata": {},
     "output_type": "execute_result"
    }
   ],
   "source": [
    "3 + 5 * 4"
   ]
  },
  {
   "cell_type": "markdown",
   "id": "160af53d-35c8-436d-a909-51aa50adfee5",
   "metadata": {
    "editable": true,
    "slideshow": {
     "slide_type": "fragment"
    },
    "tags": []
   },
   "source": [
    "We can store variables using a name and an equal sign."
   ]
  },
  {
   "cell_type": "code",
   "execution_count": 2,
   "id": "65acef87-9d13-40a4-a29d-44d509c26d75",
   "metadata": {
    "editable": true,
    "slideshow": {
     "slide_type": ""
    },
    "tags": []
   },
   "outputs": [],
   "source": [
    "weight_kg = 60.3\n",
    "height_m = 1.9"
   ]
  },
  {
   "cell_type": "markdown",
   "id": "05fdc53d-cfc8-4983-a1fa-3bd6036c7d8f",
   "metadata": {
    "editable": true,
    "slideshow": {
     "slide_type": "slide"
    },
    "tags": []
   },
   "source": [
    "There are different types of data that we can store in variables, including:\n",
    "* Integer numbers\n",
    "* Floating-point numbers (decimals)\n",
    "* Strings"
   ]
  },
  {
   "cell_type": "code",
   "execution_count": 3,
   "id": "aedad407-2957-4130-a821-4b50799d044e",
   "metadata": {
    "editable": true,
    "slideshow": {
     "slide_type": ""
    },
    "tags": []
   },
   "outputs": [],
   "source": [
    "name = \"John Doe\"\n",
    "height = 5.9\n",
    "age = 23"
   ]
  },
  {
   "cell_type": "markdown",
   "id": "32b1e7c6-409a-4d58-ac68-92e4f3c71e08",
   "metadata": {
    "editable": true,
    "slideshow": {
     "slide_type": "slide"
    },
    "tags": []
   },
   "source": [
    "In Jupyter, we can display the value of a variable just by writing its name at the end of a cell. Outside of Jupyter, we need to use `print`. The output is a little different between these methods, but they both show the value of the variable."
   ]
  },
  {
   "cell_type": "code",
   "execution_count": 4,
   "id": "32709844-89f0-4067-bf46-33cf6e145743",
   "metadata": {
    "editable": true,
    "slideshow": {
     "slide_type": ""
    },
    "tags": []
   },
   "outputs": [
    {
     "data": {
      "text/plain": [
       "'John Doe'"
      ]
     },
     "execution_count": 4,
     "metadata": {},
     "output_type": "execute_result"
    }
   ],
   "source": [
    "name"
   ]
  },
  {
   "cell_type": "code",
   "execution_count": 5,
   "id": "94026948-0949-40f7-af1b-9f42737e6b0b",
   "metadata": {
    "editable": true,
    "slideshow": {
     "slide_type": ""
    },
    "tags": []
   },
   "outputs": [
    {
     "name": "stdout",
     "output_type": "stream",
     "text": [
      "John Doe\n"
     ]
    }
   ],
   "source": [
    "print(name)"
   ]
  },
  {
   "cell_type": "markdown",
   "id": "b6dce888-6744-4d6c-9f27-3f35ee1549fd",
   "metadata": {
    "editable": true,
    "slideshow": {
     "slide_type": "slide"
    },
    "tags": []
   },
   "source": [
    "`print` is an example of a function. In Python (and other programming languages), functions take some sort of input and produce some sort of output. We can run them like so:\n",
    "\n",
    "```\n",
    "output1, output2, ... = function_name(input1, input2, ...)\n",
    "```\n",
    "\n",
    "`print` is a simple function that takes some variable and displays a text version of it. It's often helpful when you need to see the value of a variable, and we'll use it in examples."
   ]
  },
  {
   "cell_type": "markdown",
   "id": "9770adf0-9847-4580-b0d4-ae69ec786f80",
   "metadata": {
    "editable": true,
    "slideshow": {
     "slide_type": "fragment"
    },
    "tags": []
   },
   "source": [
    "There are many built-in functions in Python. For example, if I want to round a number, I can use the `round` function."
   ]
  },
  {
   "cell_type": "code",
   "execution_count": 6,
   "id": "94b2ca37-9ab6-432f-964b-77aa464fbb5b",
   "metadata": {
    "editable": true,
    "slideshow": {
     "slide_type": ""
    },
    "tags": []
   },
   "outputs": [
    {
     "data": {
      "text/plain": [
       "5.91"
      ]
     },
     "execution_count": 6,
     "metadata": {},
     "output_type": "execute_result"
    }
   ],
   "source": [
    "height_precise = 5.912\n",
    "height_rounded = round(height_precise, 2)\n",
    "height_rounded"
   ]
  },
  {
   "cell_type": "markdown",
   "id": "784a3d52-7521-4783-b0f5-4709c4f60986",
   "metadata": {
    "editable": true,
    "slideshow": {
     "slide_type": "slide"
    },
    "tags": []
   },
   "source": [
    "Unlike some other languages, we don't have to declare what type of data we're using."
   ]
  },
  {
   "cell_type": "code",
   "execution_count": 7,
   "id": "72fde1cb-91a3-4c13-a9dd-20a1b999d4b9",
   "metadata": {
    "editable": true,
    "slideshow": {
     "slide_type": ""
    },
    "tags": []
   },
   "outputs": [],
   "source": [
    "weight_kg = 60.3\n",
    "weight_kg_rounded = 60\n",
    "\n",
    "# get type of variables\n",
    "type_kg = type(weight_kg)\n",
    "type_kg_rounded = type(weight_kg_rounded)"
   ]
  },
  {
   "cell_type": "code",
   "execution_count": 8,
   "id": "e4d08eec-6200-438a-b348-3764178d6740",
   "metadata": {
    "editable": true,
    "slideshow": {
     "slide_type": ""
    },
    "tags": []
   },
   "outputs": [
    {
     "name": "stdout",
     "output_type": "stream",
     "text": [
      "With a decimal (60.3), we get: <class 'float'>\n"
     ]
    }
   ],
   "source": [
    "print(f\"With a decimal ({weight_kg}), we get: {type_kg}\")"
   ]
  },
  {
   "cell_type": "code",
   "execution_count": 9,
   "id": "8fe07940-4e79-49f3-b602-64fdf482f4c9",
   "metadata": {
    "editable": true,
    "slideshow": {
     "slide_type": ""
    },
    "tags": []
   },
   "outputs": [
    {
     "name": "stdout",
     "output_type": "stream",
     "text": [
      "with no decimal (60), we get: <class 'int'>\n"
     ]
    }
   ],
   "source": [
    "print(f\"with no decimal ({weight_kg_rounded}), we get: {type_kg_rounded}\")"
   ]
  },
  {
   "cell_type": "markdown",
   "id": "1d5b0457-d469-4892-8d27-422e45cc8245",
   "metadata": {
    "editable": true,
    "slideshow": {
     "slide_type": "slide"
    },
    "tags": []
   },
   "source": [
    "## Lists\n",
    "A common way to organize data is to place elements into a list. We can put any kind of data into a list."
   ]
  },
  {
   "cell_type": "code",
   "execution_count": 10,
   "id": "dd8b200a-5535-4654-a7f7-f5d0d9aea43c",
   "metadata": {
    "editable": true,
    "slideshow": {
     "slide_type": ""
    },
    "tags": []
   },
   "outputs": [],
   "source": [
    "participant_ids = [\"001\", \"002\", \"003\"]\n",
    "mixed_data = [\"John Doe\", 5.9, 23]"
   ]
  },
  {
   "cell_type": "markdown",
   "id": "a33a0bf8-85c8-44b6-9100-12684c3e08e6",
   "metadata": {
    "editable": true,
    "slideshow": {
     "slide_type": "fragment"
    },
    "tags": []
   },
   "source": [
    "After we create a list, we can access elements of that list using *indexing*. A slightly confusing thing about Python (and many programming languages) is that the first index is 0, and it counts up from there. So, the first element is at 0, the second element is at 1, etc."
   ]
  },
  {
   "cell_type": "code",
   "execution_count": 11,
   "id": "031d7a44-2b14-43f5-93d1-cd2cadd8b7dc",
   "metadata": {
    "editable": true,
    "slideshow": {
     "slide_type": ""
    },
    "tags": []
   },
   "outputs": [
    {
     "name": "stdout",
     "output_type": "stream",
     "text": [
      "['001', '002', '003']\n"
     ]
    }
   ],
   "source": [
    "print(participant_ids)"
   ]
  },
  {
   "cell_type": "code",
   "execution_count": 12,
   "id": "945f70bc-a509-430e-b3bf-c61ecd075a22",
   "metadata": {
    "editable": true,
    "slideshow": {
     "slide_type": ""
    },
    "tags": []
   },
   "outputs": [
    {
     "name": "stdout",
     "output_type": "stream",
     "text": [
      "001\n"
     ]
    }
   ],
   "source": [
    "print(participant_ids[0])"
   ]
  },
  {
   "cell_type": "code",
   "execution_count": 13,
   "id": "8680a631-3b25-4e7e-bf3d-c0653aa9deab",
   "metadata": {
    "editable": true,
    "slideshow": {
     "slide_type": ""
    },
    "tags": []
   },
   "outputs": [
    {
     "name": "stdout",
     "output_type": "stream",
     "text": [
      "002\n"
     ]
    }
   ],
   "source": [
    "print(participant_ids[1])"
   ]
  },
  {
   "cell_type": "markdown",
   "id": "14e3dddb-3309-44c3-ab15-f5f70ff5643b",
   "metadata": {
    "editable": true,
    "slideshow": {
     "slide_type": "slide"
    },
    "tags": []
   },
   "source": [
    "Besides accessing one element at a time, we can also access a range of elements (called a *slice*) using the colon operator (`:`).\n",
    "\n",
    "Slices usually just have a start index and a finish index, like this:\n",
    "```\n",
    "my_list[start:finish]\n",
    "```\n",
    "\n",
    "The finish is *non-inclusive*. For example, `[0:2]` will get the first two elements."
   ]
  },
  {
   "cell_type": "code",
   "execution_count": 14,
   "id": "b47daf95-d24d-4675-8d51-500418c72d4f",
   "metadata": {
    "editable": true,
    "slideshow": {
     "slide_type": ""
    },
    "tags": []
   },
   "outputs": [
    {
     "name": "stdout",
     "output_type": "stream",
     "text": [
      "['001', '002']\n"
     ]
    }
   ],
   "source": [
    "print(participant_ids[0:2])"
   ]
  },
  {
   "cell_type": "markdown",
   "id": "852c4529-934b-4831-baae-4e39e4a4e6ed",
   "metadata": {
    "editable": true,
    "slideshow": {
     "slide_type": "slide"
    },
    "tags": []
   },
   "source": [
    "If either the start or finish is missing, the corresponding end of the list will be used."
   ]
  },
  {
   "cell_type": "code",
   "execution_count": 15,
   "id": "2f510d7c-f1d5-41d5-84ed-9b8884a2fdc1",
   "metadata": {
    "editable": true,
    "slideshow": {
     "slide_type": ""
    },
    "tags": []
   },
   "outputs": [
    {
     "name": "stdout",
     "output_type": "stream",
     "text": [
      "['001', '002']\n"
     ]
    }
   ],
   "source": [
    "print(participant_ids[:2])  # from the start until 2"
   ]
  },
  {
   "cell_type": "code",
   "execution_count": 16,
   "id": "39968278-94c5-4389-a774-ad5b167aca97",
   "metadata": {
    "editable": true,
    "slideshow": {
     "slide_type": ""
    },
    "tags": []
   },
   "outputs": [
    {
     "name": "stdout",
     "output_type": "stream",
     "text": [
      "['002', '003']\n"
     ]
    }
   ],
   "source": [
    "print(participant_ids[1:])  # from 1 until the end"
   ]
  },
  {
   "cell_type": "markdown",
   "id": "19d79e5f-b0cc-4697-9310-fd8ab3e9e239",
   "metadata": {
    "editable": true,
    "slideshow": {
     "slide_type": "slide"
    },
    "tags": []
   },
   "source": [
    "We can even make lists of lists."
   ]
  },
  {
   "cell_type": "code",
   "execution_count": 17,
   "id": "2c3ebf45-18fd-4b42-8c8b-b27bb55b671e",
   "metadata": {
    "editable": true,
    "slideshow": {
     "slide_type": ""
    },
    "tags": []
   },
   "outputs": [],
   "source": [
    "participant_groups = [[\"001\", \"003\", \"005\"], [\"002\", \"004\", \"006\"]]"
   ]
  },
  {
   "cell_type": "markdown",
   "id": "412ee60b-af2a-48bb-9345-0b7b9b5d4433",
   "metadata": {
    "editable": true,
    "slideshow": {
     "slide_type": "fragment"
    },
    "tags": []
   },
   "source": [
    "We can then put together multiple indices. For example, to get the third entry in the second group:"
   ]
  },
  {
   "cell_type": "code",
   "execution_count": 18,
   "id": "6a4a7375-eb6a-4fa4-959e-504a8ecb1ee6",
   "metadata": {
    "editable": true,
    "slideshow": {
     "slide_type": ""
    },
    "tags": []
   },
   "outputs": [
    {
     "name": "stdout",
     "output_type": "stream",
     "text": [
      "006\n"
     ]
    }
   ],
   "source": [
    "print(participant_groups[1][2])"
   ]
  },
  {
   "cell_type": "markdown",
   "id": "7710da17-47f8-4932-b9f2-82901268550d",
   "metadata": {},
   "source": [
    "Some examples were adapted from Copyright (c) The Carpentries, available under the CC BY 4.0 license.\n",
    "https://swcarpentry.github.io/python-novice-inflammation/01-intro.html"
   ]
  }
 ],
 "metadata": {
  "kernelspec": {
   "display_name": "datascipsych",
   "language": "python",
   "name": "datascipsych"
  },
  "language_info": {
   "codemirror_mode": {
    "name": "ipython",
    "version": 3
   },
   "file_extension": ".py",
   "mimetype": "text/x-python",
   "name": "python",
   "nbconvert_exporter": "python",
   "pygments_lexer": "ipython3",
   "version": "3.12.8"
  }
 },
 "nbformat": 4,
 "nbformat_minor": 5
}
