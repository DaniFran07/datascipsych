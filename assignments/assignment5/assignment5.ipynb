{
 "cells": [
  {
   "cell_type": "markdown",
   "metadata": {},
   "source": [
    "# Assignment 5 draft (NOT FINALIZED)\n",
    "\n",
    "Please fill in blanks in the *Answer* sections of this notebook. To check your answer for a problem, run the Setup, Answer, and Result sections. DO NOT MODIFY SETUP OR RESULT CELLS. See the [README](https://github.com/mortonne/datascipsych) for instructions on setting up a Python environment to run this notebook.\n",
    "\n",
    "Write your answers for each problem. Then restart the kernel, run all cells, and then save the notebook. Upload your notebook to Canvas.\n",
    "\n",
    "If you get stuck, read through the other notebooks in this directory, ask us for help in class, or ask other students for help in class or on the weekly discussion board."
   ]
  },
  {
   "cell_type": "markdown",
   "metadata": {},
   "source": [
    "## Problem: creating a NumPy array (2 points)\n",
    "Create a NumPy array called `x` with the following data: 0.4, 0.8, 1.5, 1.6, 2.3, 4.2."
   ]
  },
  {
   "cell_type": "markdown",
   "metadata": {},
   "source": [
    "### Setup"
   ]
  },
  {
   "cell_type": "code",
   "execution_count": 1,
   "metadata": {},
   "outputs": [],
   "source": [
    "import numpy as np\n",
    "x = None"
   ]
  },
  {
   "cell_type": "markdown",
   "metadata": {},
   "source": [
    "### Answer"
   ]
  },
  {
   "cell_type": "code",
   "execution_count": 2,
   "metadata": {},
   "outputs": [],
   "source": [
    "# your code here"
   ]
  },
  {
   "cell_type": "markdown",
   "metadata": {},
   "source": [
    "### Result"
   ]
  },
  {
   "cell_type": "code",
   "execution_count": 3,
   "metadata": {},
   "outputs": [],
   "source": [
    "if x is not None:\n",
    "    # this should print your array\n",
    "    print(x)\n",
    "    \n",
    "    # this should not throw any errors\n",
    "    assert isinstance(x, np.ndarray)\n",
    "    assert x[2] == 1.5\n",
    "    assert x.size == 6\n",
    "    assert x.ndim == 1\n",
    "    assert x.dtype == float"
   ]
  },
  {
   "cell_type": "markdown",
   "metadata": {},
   "source": [
    "## Problem: accessing array attributes (2 points)\n",
    "For the array `z` (defined below), use array attributes (accessed using `z.[attribute]`) to get the number of dimensions, the size of each dimension, and the total number of elements."
   ]
  },
  {
   "cell_type": "markdown",
   "metadata": {},
   "source": [
    "### Setup"
   ]
  },
  {
   "cell_type": "code",
   "execution_count": 4,
   "metadata": {},
   "outputs": [],
   "source": [
    "z = np.array([[1, 2, 3], [4, 5, 6]])\n",
    "z_ndim = None\n",
    "z_shape = None\n",
    "z_size = None"
   ]
  },
  {
   "cell_type": "markdown",
   "metadata": {},
   "source": [
    "### Answer"
   ]
  },
  {
   "cell_type": "code",
   "execution_count": 5,
   "metadata": {},
   "outputs": [],
   "source": [
    "# your code here"
   ]
  },
  {
   "cell_type": "markdown",
   "metadata": {},
   "source": [
    "### Result"
   ]
  },
  {
   "cell_type": "code",
   "execution_count": 6,
   "metadata": {},
   "outputs": [],
   "source": [
    "if z_ndim is not None and z_shape is not None and z_size is not None:\n",
    "    # this should print your variables\n",
    "    print(z_ndim, z_shape, z_size)\n",
    "\n",
    "    # this should not throw any errors\n",
    "    assert z_ndim == 2\n",
    "    assert z_shape == (2, 3)\n",
    "    assert z_size == 6"
   ]
  },
  {
   "cell_type": "markdown",
   "metadata": {},
   "source": [
    "## Problem: accessing array data (2 points)\n",
    "For the array `a` (defined below), use indexing to get the fourth item. Then use slicing to get a view of the array showing items two through four (inclusive)."
   ]
  },
  {
   "cell_type": "markdown",
   "metadata": {},
   "source": [
    "### Setup"
   ]
  },
  {
   "cell_type": "code",
   "execution_count": 7,
   "metadata": {},
   "outputs": [],
   "source": [
    "a = np.array([5, 4, 3, 2, 1])\n",
    "a_four = None\n",
    "a_two_thru_four = None"
   ]
  },
  {
   "cell_type": "markdown",
   "metadata": {},
   "source": [
    "### Answer"
   ]
  },
  {
   "cell_type": "code",
   "execution_count": 8,
   "metadata": {},
   "outputs": [],
   "source": [
    "# your code here"
   ]
  },
  {
   "cell_type": "markdown",
   "metadata": {},
   "source": [
    "### Result"
   ]
  },
  {
   "cell_type": "code",
   "execution_count": 9,
   "metadata": {},
   "outputs": [],
   "source": [
    "if a_four is not None and a_two_thru_four is not None:\n",
    "    # this should print your variables\n",
    "    print(a_four, a_two_thru_four)\n",
    "\n",
    "    # this should not throw any errors\n",
    "    assert isinstance(a_four, int)\n",
    "    assert isinstance(a_two_thru_four, np.ndarray)\n",
    "    assert a_four == 2\n",
    "    assert a_two_thru_four == np.array([4, 3, 2])"
   ]
  },
  {
   "cell_type": "markdown",
   "metadata": {},
   "source": [
    "## Problem: accessing array data (2 points)\n",
    "For the array `a` (defined below), use indexing to get the fourth item. Then use slicing to get a view of the array showing items two through four (inclusive)."
   ]
  },
  {
   "cell_type": "markdown",
   "metadata": {},
   "source": [
    "### Setup"
   ]
  },
  {
   "cell_type": "code",
   "execution_count": 10,
   "metadata": {},
   "outputs": [],
   "source": [
    "a = np.array([5, 4, 3, 2, 1])\n",
    "a_four = None\n",
    "a_two_thru_four = None"
   ]
  },
  {
   "cell_type": "markdown",
   "metadata": {},
   "source": [
    "### Answer"
   ]
  },
  {
   "cell_type": "code",
   "execution_count": 11,
   "metadata": {},
   "outputs": [],
   "source": [
    "# your code here"
   ]
  },
  {
   "cell_type": "markdown",
   "metadata": {},
   "source": [
    "### Result"
   ]
  },
  {
   "cell_type": "code",
   "execution_count": 12,
   "metadata": {},
   "outputs": [],
   "source": [
    "if a_four is not None and a_two_thru_four is not None:\n",
    "    # this should print your variables\n",
    "    print(a_four, a_two_thru_four)\n",
    "\n",
    "    # this should not throw any errors\n",
    "    assert isinstance(a_four, int)\n",
    "    assert isinstance(a_two_thru_four, np.ndarray)\n",
    "    assert a_four == 2\n",
    "    assert a_two_thru_four == np.array([4, 3, 2])"
   ]
  },
  {
   "cell_type": "markdown",
   "metadata": {},
   "source": [
    "## Problem: using array functions (2 points)\n",
    "For the array `correct` (defined below), which labels a series of trials in a memory experiment by whether they were correct (1) or incorrect (0), use NumPy functions to calculate the number of trials, the total number of correct responses, and the fraction of correct responses."
   ]
  },
  {
   "cell_type": "markdown",
   "metadata": {},
   "source": [
    "### Setup"
   ]
  },
  {
   "cell_type": "code",
   "execution_count": 13,
   "metadata": {},
   "outputs": [],
   "source": [
    "correct = np.array([0, 1, 1, 1, 0, 0, 1, 0, 0, 1])\n",
    "n_trial = None\n",
    "n_correct = None\n",
    "fraction_correct = None"
   ]
  },
  {
   "cell_type": "markdown",
   "metadata": {},
   "source": [
    "### Answer"
   ]
  },
  {
   "cell_type": "code",
   "execution_count": 14,
   "metadata": {},
   "outputs": [],
   "source": [
    "# your code here"
   ]
  },
  {
   "cell_type": "markdown",
   "metadata": {},
   "source": [
    "### Result"
   ]
  },
  {
   "cell_type": "code",
   "execution_count": 15,
   "metadata": {},
   "outputs": [],
   "source": [
    "if n_trial is not None and n_correct is not None and fraction_correct is not None:\n",
    "    # this should print your variables\n",
    "    print(n_trial, n_correct, fraction_correct)\n",
    "\n",
    "    # this should not throw any errors\n",
    "    assert isinstance(n_trial, int)\n",
    "    assert isinstance(n_correct, int)\n",
    "    assert isinstance(fraction_correct, float)\n",
    "    assert n_trial == 10\n",
    "    assert n_correct == 5\n",
    "    assert fraction_correct == 0.5"
   ]
  },
  {
   "cell_type": "markdown",
   "metadata": {},
   "source": [
    "## Problem: filtering an array (2 points)\n",
    "Create a NumPy array called `b` with the following data: 12, 4, 3, 10, 15, 1. Then use array filtering with comparison operators (for example, `<`, `>`, `==`, `<=`, `>=`) to create a view of that array called `c`, which has just the numbers that are less than or equal to 10."
   ]
  },
  {
   "cell_type": "markdown",
   "metadata": {},
   "source": [
    "### Setup"
   ]
  },
  {
   "cell_type": "code",
   "execution_count": 16,
   "metadata": {},
   "outputs": [],
   "source": [
    "b = None\n",
    "c = None"
   ]
  },
  {
   "cell_type": "markdown",
   "metadata": {},
   "source": [
    "### Answer"
   ]
  },
  {
   "cell_type": "code",
   "execution_count": 17,
   "metadata": {},
   "outputs": [],
   "source": [
    "# your code here"
   ]
  },
  {
   "cell_type": "markdown",
   "metadata": {},
   "source": [
    "### Result"
   ]
  },
  {
   "cell_type": "code",
   "execution_count": 18,
   "metadata": {},
   "outputs": [],
   "source": [
    "if b is not None and c is not None:\n",
    "    # this should print your arrays\n",
    "    print(b, c)\n",
    "    \n",
    "    # this should not throw any errors\n",
    "    assert isinstance(b, np.ndarray)\n",
    "    assert isinstance(c, np.ndarray)\n",
    "    assert b[2] == 3\n",
    "    assert b.size == 6\n",
    "    assert c == np.ndarray([4, 3, 10, 1])"
   ]
  }
 ],
 "metadata": {
  "kernelspec": {
   "display_name": "datascipsych",
   "language": "python",
   "name": "datascipsych"
  },
  "language_info": {
   "codemirror_mode": {
    "name": "ipython",
    "version": 3
   },
   "file_extension": ".py",
   "mimetype": "text/x-python",
   "name": "python",
   "nbconvert_exporter": "python",
   "pygments_lexer": "ipython3",
   "version": "3.12.8"
  }
 },
 "nbformat": 4,
 "nbformat_minor": 2
}
