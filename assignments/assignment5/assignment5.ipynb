{
 "cells": [
  {
   "cell_type": "markdown",
   "metadata": {},
   "source": [
    "# Assignment 5\n",
    "\n",
    "Please fill in blanks in the *Answer* sections of this notebook. To check your answer for a problem, run the Setup, Answer, and Result sections. DO NOT MODIFY SETUP OR RESULT CELLS. See the [README](https://github.com/mortonne/datascipsych) for instructions on setting up a Python environment to run this notebook.\n",
    "\n",
    "Write your answers for each problem. Then restart the kernel, run all cells, and then save the notebook. Upload your notebook to Canvas.\n",
    "\n",
    "If you get stuck, read through the other notebooks in this directory, ask us for help in class, or ask other students for help in class or on the weekly discussion board."
   ]
  },
  {
   "cell_type": "markdown",
   "metadata": {},
   "source": [
    "## Problem: creating a NumPy array (2 points)\n",
    "Create a NumPy array called `x` with the following data: 0.4, 0.8, 1.5, 1.6, 2.3, 4.2."
   ]
  },
  {
   "cell_type": "markdown",
   "metadata": {},
   "source": [
    "### Setup"
   ]
  },
  {
   "cell_type": "code",
   "execution_count": 74,
   "metadata": {},
   "outputs": [],
   "source": [
    "import numpy as np\n",
    "x = None"
   ]
  },
  {
   "cell_type": "markdown",
   "metadata": {},
   "source": [
    "### Answer"
   ]
  },
  {
   "cell_type": "code",
   "execution_count": 75,
   "metadata": {},
   "outputs": [
    {
     "data": {
      "text/plain": [
       "array([0.4, 0.8, 1.5, 1.6, 2.3, 4.2])"
      ]
     },
     "execution_count": 75,
     "metadata": {},
     "output_type": "execute_result"
    }
   ],
   "source": [
    "x = np.array([0.4, 0.8, 1.5, 1.6, 2.3, 4.2])\n",
    "x"
   ]
  },
  {
   "cell_type": "markdown",
   "metadata": {},
   "source": [
    "### Result"
   ]
  },
  {
   "cell_type": "code",
   "execution_count": 76,
   "metadata": {},
   "outputs": [
    {
     "name": "stdout",
     "output_type": "stream",
     "text": [
      "[0.4 0.8 1.5 1.6 2.3 4.2]\n"
     ]
    }
   ],
   "source": [
    "if x is not None:\n",
    "    # this should print your array\n",
    "    print(x)\n",
    "    \n",
    "    # this should not throw any errors\n",
    "    assert isinstance(x, np.ndarray)\n",
    "    assert x[2] == 1.5\n",
    "    assert x.size == 6\n",
    "    assert x.ndim == 1\n",
    "    assert x.dtype == float"
   ]
  },
  {
   "cell_type": "markdown",
   "metadata": {},
   "source": [
    "## Problem: using array generation functions (2 points)\n",
    "Create an array of 4 zeros called `x_zeros` using `np.zeros`. Create a 3 x 3 x 3 array of ones called `x_ones` using `np.ones`. Create an array called `x_range` with the numbers 3 through 6 (inclusive) using `np.arange`."
   ]
  },
  {
   "cell_type": "markdown",
   "metadata": {},
   "source": [
    "### Setup"
   ]
  },
  {
   "cell_type": "code",
   "execution_count": 89,
   "metadata": {},
   "outputs": [],
   "source": [
    "x_zeros = None\n",
    "x_ones = None\n",
    "x_range = None"
   ]
  },
  {
   "cell_type": "markdown",
   "metadata": {},
   "source": [
    "### Answer"
   ]
  },
  {
   "cell_type": "code",
   "execution_count": 90,
   "metadata": {},
   "outputs": [
    {
     "data": {
      "text/plain": [
       "array([0., 0., 0., 0.])"
      ]
     },
     "metadata": {},
     "output_type": "display_data"
    },
    {
     "data": {
      "text/plain": [
       "array([[1., 1., 1.],\n",
       "       [1., 1., 1.],\n",
       "       [1., 1., 1.]])"
      ]
     },
     "metadata": {},
     "output_type": "display_data"
    },
    {
     "data": {
      "text/plain": [
       "array([3, 4, 5, 6])"
      ]
     },
     "metadata": {},
     "output_type": "display_data"
    }
   ],
   "source": [
    "# your code here\n",
    "x_zeros = np.zeros(4)\n",
    "display(x_zeros)\n",
    "x_ones = np.ones((3, 3))\n",
    "display(x_ones)\n",
    "x_range = np.arange(3, 7)\n",
    "display(x_range)"
   ]
  },
  {
   "cell_type": "markdown",
   "metadata": {},
   "source": [
    "### Result"
   ]
  },
  {
   "cell_type": "code",
   "execution_count": 91,
   "metadata": {},
   "outputs": [
    {
     "name": "stdout",
     "output_type": "stream",
     "text": [
      "[0. 0. 0. 0.]\n",
      "[[1. 1. 1.]\n",
      " [1. 1. 1.]\n",
      " [1. 1. 1.]]\n",
      "[3 4 5 6]\n"
     ]
    },
    {
     "ename": "AssertionError",
     "evalue": "",
     "output_type": "error",
     "traceback": [
      "\u001b[0;31m---------------------------------------------------------------------------\u001b[0m",
      "\u001b[0;31mAssertionError\u001b[0m                            Traceback (most recent call last)",
      "Cell \u001b[0;32mIn[91], line 16\u001b[0m\n\u001b[1;32m     14\u001b[0m \u001b[38;5;28;01massert\u001b[39;00m x_zeros\u001b[38;5;241m.\u001b[39mshape \u001b[38;5;241m==\u001b[39m (\u001b[38;5;241m4\u001b[39m,)\n\u001b[1;32m     15\u001b[0m \u001b[38;5;28;01massert\u001b[39;00m np\u001b[38;5;241m.\u001b[39mall(x_ones \u001b[38;5;241m==\u001b[39m \u001b[38;5;241m1\u001b[39m)\n\u001b[0;32m---> 16\u001b[0m \u001b[38;5;28;01massert\u001b[39;00m x_ones\u001b[38;5;241m.\u001b[39mndim \u001b[38;5;241m==\u001b[39m \u001b[38;5;241m3\u001b[39m\n\u001b[1;32m     17\u001b[0m \u001b[38;5;28;01massert\u001b[39;00m x_ones\u001b[38;5;241m.\u001b[39mshape \u001b[38;5;241m==\u001b[39m (\u001b[38;5;241m3\u001b[39m, \u001b[38;5;241m3\u001b[39m, \u001b[38;5;241m3\u001b[39m)\n\u001b[1;32m     18\u001b[0m \u001b[38;5;28;01massert\u001b[39;00m x_range[\u001b[38;5;241m0\u001b[39m] \u001b[38;5;241m==\u001b[39m \u001b[38;5;241m3\u001b[39m\n",
      "\u001b[0;31mAssertionError\u001b[0m: "
     ]
    }
   ],
   "source": [
    "vars = [x_zeros, x_ones, x_range]\n",
    "if all([v is not None for v in vars]):\n",
    "    # this should print your arrays\n",
    "    print(x_zeros)\n",
    "    print(x_ones)\n",
    "    print(x_range)\n",
    "    \n",
    "    # this should not throw any errors\n",
    "    assert isinstance(x_zeros, np.ndarray)\n",
    "    assert isinstance(x_ones, np.ndarray)\n",
    "    assert isinstance(x_range, np.ndarray)\n",
    "    assert np.all(x_zeros == 0)\n",
    "    assert x_zeros.ndim == 1\n",
    "    assert x_zeros.shape == (4,)\n",
    "    assert np.all(x_ones == 1)\n",
    "    assert x_ones.ndim == 3\n",
    "    assert x_ones.shape == (3, 3, 3)\n",
    "    assert x_range[0] == 3\n",
    "    assert x_range[-1] == 6\n",
    "    assert x_range.size == 4\n",
    "    assert x_range.ndim == 1"
   ]
  },
  {
   "cell_type": "markdown",
   "metadata": {},
   "source": [
    "## Problem: accessing array attributes (2 points)\n",
    "For the array `z` (defined below), use array attributes (accessed using `z.[attribute]`) to get the number of dimensions, the size of each dimension, and the total number of elements."
   ]
  },
  {
   "cell_type": "markdown",
   "metadata": {},
   "source": [
    "### Setup"
   ]
  },
  {
   "cell_type": "code",
   "execution_count": 39,
   "metadata": {},
   "outputs": [],
   "source": [
    "z = np.array([[1, 2, 3], [4, 5, 6]])\n",
    "zdims = None\n",
    "zshape = None\n",
    "ztot = None"
   ]
  },
  {
   "cell_type": "markdown",
   "metadata": {},
   "source": [
    "### Answer"
   ]
  },
  {
   "cell_type": "code",
   "execution_count": 97,
   "metadata": {},
   "outputs": [
    {
     "name": "stdout",
     "output_type": "stream",
     "text": [
      "Number of dimensions: 2\n",
      "Size of each dimension: (2, 3)\n",
      "Total number of elements: 6\n"
     ]
    }
   ],
   "source": [
    "# your code here\n",
    "print(f\"Number of dimensions: {z.ndim}\")\n",
    "print(f\"Size of each dimension: {z.shape}\")\n",
    "print(f\"Total number of elements: {z.size}\")"
   ]
  },
  {
   "cell_type": "markdown",
   "metadata": {},
   "source": [
    "### Result"
   ]
  },
  {
   "cell_type": "code",
   "execution_count": 98,
   "metadata": {},
   "outputs": [],
   "source": [
    "\n",
    "vars = [zdims, zshape, ztot]\n",
    "if all([v is not None for v in vars]):\n",
    "    # this should print your variables\n",
    "    print(zdims, zshape, ztot)\n",
    "\n",
    "    # this should not throw any errors\n",
    "    assert zdims == 2\n",
    "    assert zshape == (2, 3)\n",
    "    assert ztot == 6"
   ]
  },
  {
   "cell_type": "markdown",
   "metadata": {},
   "source": [
    "## Problem: accessing array data (2 points)\n",
    "For the array `a` (defined below), use indexing to get the fourth item. Then use slicing to get a view of the array showing items two through four (inclusive)."
   ]
  },
  {
   "cell_type": "markdown",
   "metadata": {},
   "source": [
    "### Setup"
   ]
  },
  {
   "cell_type": "code",
   "execution_count": 104,
   "metadata": {},
   "outputs": [],
   "source": [
    "a = np.array([5, 4, 3, 2, 1])\n",
    "a_four = None\n",
    "a_two_thru_four = None"
   ]
  },
  {
   "cell_type": "markdown",
   "metadata": {},
   "source": [
    "### Answer"
   ]
  },
  {
   "cell_type": "code",
   "execution_count": 107,
   "metadata": {},
   "outputs": [
    {
     "name": "stdout",
     "output_type": "stream",
     "text": [
      "2\n",
      "[4 3 2]\n"
     ]
    }
   ],
   "source": [
    "# your code here\n",
    "a_four = print(a[3])\n",
    "a_two_thru_four = print(a[1:4])"
   ]
  },
  {
   "cell_type": "markdown",
   "metadata": {},
   "source": [
    "### Result"
   ]
  },
  {
   "cell_type": "code",
   "execution_count": 108,
   "metadata": {},
   "outputs": [],
   "source": [
    "if a_four is not None and a_two_thru_four is not None:\n",
    "    # this should print your variables\n",
    "    print(a_four, a_two_thru_four)\n",
    "\n",
    "    # this should not throw any errors\n",
    "    assert isinstance(a_four, np.int64)\n",
    "    assert isinstance(a_two_thru_four, np.ndarray)\n",
    "    assert a_four == 2\n",
    "    assert np.array_equal(a_two_thru_four, np.array([4, 3, 2]))"
   ]
  },
  {
   "cell_type": "markdown",
   "metadata": {},
   "source": [
    "## Problem: using array functions (2 points)\n",
    "For the array `correct` (defined below), which labels a series of trials in a memory experiment by whether they were correct (1) or incorrect (0), use NumPy attributes and functions to calculate the number of trials, the total number of correct responses, and the fraction of correct responses."
   ]
  },
  {
   "cell_type": "markdown",
   "metadata": {},
   "source": [
    "### Setup"
   ]
  },
  {
   "cell_type": "code",
   "execution_count": 126,
   "metadata": {},
   "outputs": [],
   "source": [
    "correct = np.array([0, 1, 1, 1, 0, 0, 1, 0, 0, 1])\n",
    "n_trial = None#legnth of triqls\n",
    "n_correct = None #correct\n",
    "fraction_correct = None #numver of correct trials/number of trials"
   ]
  },
  {
   "cell_type": "markdown",
   "metadata": {},
   "source": [
    "### Answer"
   ]
  },
  {
   "cell_type": "code",
   "execution_count": 127,
   "metadata": {},
   "outputs": [
    {
     "name": "stdout",
     "output_type": "stream",
     "text": [
      "Total number of trials: 10\n",
      "Total correct: 5\n",
      "Fraction correct: 50%\n"
     ]
    }
   ],
   "source": [
    "# your code here\n",
    "(f\"Toal size of array: {correct.size}\")\n",
    "n_trial = correct.size\n",
    "print(f\"Total number of trials: {n_trial}\")\n",
    "n_correct = np.sum(correct)\n",
    "print(f\"Total correct: {n_correct}\")\n",
    "fraction_correct = np.mean(correct)\n",
    "print(f\"Fraction correct: {round(np.mean(correct)*100)}%\")"
   ]
  },
  {
   "cell_type": "markdown",
   "metadata": {},
   "source": [
    "### Result"
   ]
  },
  {
   "cell_type": "code",
   "execution_count": 128,
   "metadata": {},
   "outputs": [
    {
     "name": "stdout",
     "output_type": "stream",
     "text": [
      "10 5 0.5\n"
     ]
    }
   ],
   "source": [
    "vars = [n_trial, n_correct, fraction_correct]\n",
    "if all([v is not None for v in vars]):\n",
    "    # this should print your variables\n",
    "    print(n_trial, n_correct, fraction_correct)\n",
    "\n",
    "    # this should not throw any errors\n",
    "    assert n_trial == 10\n",
    "    assert n_correct == 5\n",
    "    assert fraction_correct == 0.5"
   ]
  },
  {
   "cell_type": "markdown",
   "metadata": {},
   "source": [
    "## Problem: filtering an array (2 points)\n",
    "Create a NumPy array called `b` with the following data: 12, 4, 3, 10, 15, 1. Then use array filtering with comparison operators (for example, `<`, `>`, `==`, `<=`, `>=`) to filter `b` and get an array called `c`, which has just the numbers that are less than or equal to 10."
   ]
  },
  {
   "cell_type": "markdown",
   "metadata": {},
   "source": [
    "### Setup"
   ]
  },
  {
   "cell_type": "code",
   "execution_count": 48,
   "metadata": {},
   "outputs": [],
   "source": [
    "b = None\n",
    "c = None"
   ]
  },
  {
   "cell_type": "markdown",
   "metadata": {},
   "source": [
    "### Answer"
   ]
  },
  {
   "cell_type": "code",
   "execution_count": 49,
   "metadata": {},
   "outputs": [],
   "source": [
    "# your code here"
   ]
  },
  {
   "cell_type": "markdown",
   "metadata": {},
   "source": [
    "### Result"
   ]
  },
  {
   "cell_type": "code",
   "execution_count": 50,
   "metadata": {},
   "outputs": [],
   "source": [
    "if b is not None and c is not None:\n",
    "    # this should print your arrays\n",
    "    print(b, c)\n",
    "    \n",
    "    # this should not throw any errors\n",
    "    assert isinstance(b, np.ndarray)\n",
    "    assert isinstance(c, np.ndarray)\n",
    "    assert b[2] == 3\n",
    "    assert b.size == 6\n",
    "    assert np.array_equal(c, np.array([4, 3, 10, 1]))"
   ]
  },
  {
   "cell_type": "markdown",
   "metadata": {},
   "source": [
    "## Problem (graduate students): data analysis using NumPy (4 points)\n",
    "Say that you have data from a psychology experiment where participants had to make responses in two conditions: A and B. For each trial, you have a variable indicating whether the response was correct and a variable indicating the response time. The table below shows the data for six trials.\n",
    "\n",
    "| condition | correct | response_time |\n",
    "| --------- | ------- | ------------- |\n",
    "| A         | 1       | 1.5           |\n",
    "| B         | 1       | 1.3           |\n",
    "| A         | 0       | 2.9           |\n",
    "| B         | 1       | 1.2           |\n",
    "| B         | 1       | 1.4           |\n",
    "| A         | 0       | 2.3           |\n",
    "\n",
    "Create NumPy arrays called `condition`, `correct`, and `response_time` to represent each variable in the study. Then use array filtering (see the Filtering arrays section in the lecture) and NumPy functions (see the Array functions section in the lecture) to calculate fraction correct in condition A, fraction correct in condition B, mean response time in condition A, and mean response time in condition B."
   ]
  },
  {
   "cell_type": "markdown",
   "metadata": {},
   "source": [
    "### Setup"
   ]
  },
  {
   "cell_type": "code",
   "execution_count": 51,
   "metadata": {},
   "outputs": [],
   "source": [
    "condition = None\n",
    "correct = None\n",
    "response_time = None\n",
    "accuracy_A = None\n",
    "accuracy_B = None\n",
    "response_time_A = None\n",
    "response_time_B = None"
   ]
  },
  {
   "cell_type": "markdown",
   "metadata": {},
   "source": [
    "### Answer"
   ]
  },
  {
   "cell_type": "code",
   "execution_count": 52,
   "metadata": {},
   "outputs": [],
   "source": [
    "# your code here"
   ]
  },
  {
   "cell_type": "markdown",
   "metadata": {},
   "source": [
    "### Result"
   ]
  },
  {
   "cell_type": "code",
   "execution_count": 53,
   "metadata": {},
   "outputs": [],
   "source": [
    "vars = [condition, correct, response_time, accuracy_A, accuracy_B, response_time_A, response_time_B]\n",
    "if all([x is not None for x in vars]):\n",
    "    # this should print your arrays\n",
    "    print(condition)\n",
    "    print(correct)\n",
    "    print(response_time)\n",
    "    print(f\"{accuracy_A=}, {accuracy_B=}, {response_time_A=}, {response_time_B=}\")\n",
    "    \n",
    "    # this should not throw any errors\n",
    "    assert isinstance(condition, np.ndarray)\n",
    "    assert isinstance(correct, np.ndarray)\n",
    "    assert isinstance(response_time, np.ndarray)\n",
    "    assert round(accuracy_A, 2) == 0.33\n",
    "    assert round(accuracy_B, 2) == 1.00\n",
    "    assert round(response_time_A, 2) == 2.23\n",
    "    assert round(response_time_B, 2) == 1.30"
   ]
  },
  {
   "cell_type": "markdown",
   "metadata": {},
   "source": [
    "## Problem (graduate students): using broadcasting (4 points)\n",
    "Read about [broadcasting](https://numpy.org/doc/stable/user/basics.broadcasting.html) of NumPy arrays.\n",
    "\n",
    "Say that you have a matrix:\n",
    "\n",
    "$$\n",
    "M = \\begin{pmatrix}\n",
    "    1.0 & 2.0 & 3.0 \\\\\n",
    "    1.1 & 2.2 & 3.3 \\\\\n",
    "    1.2 & 2.4 & 3.6 \\\\\n",
    "    \\end{pmatrix}\n",
    "$$\n",
    "\n",
    "And a set of values that you want to use to scale the columns of the matrix:\n",
    "\n",
    "$$\n",
    "S = \\begin{pmatrix}\n",
    "    1 & 2 & 3 \\\\\n",
    "    \\end{pmatrix}\n",
    "$$\n",
    "\n",
    "Create a 2D NumPy array called `M` with the same data as above, and a 1D NumPy array called `S`. Multiply `M` by `S` to scale each column, resulting in a new variable `M_scaled`. That is, column 1 in M should be multiplied by 1, column 2 should be multiplied by 2, and column 3 should be multiplied by 3. This will involve using the regular multiplication operator (`*`), not matrix multiplication (`@`)."
   ]
  },
  {
   "cell_type": "markdown",
   "metadata": {},
   "source": [
    "### Setup"
   ]
  },
  {
   "cell_type": "code",
   "execution_count": 54,
   "metadata": {},
   "outputs": [],
   "source": [
    "M = None\n",
    "S = None\n",
    "M_scaled = None"
   ]
  },
  {
   "cell_type": "markdown",
   "metadata": {},
   "source": [
    "### Answer"
   ]
  },
  {
   "cell_type": "code",
   "execution_count": 55,
   "metadata": {},
   "outputs": [],
   "source": [
    "# your code here"
   ]
  },
  {
   "cell_type": "markdown",
   "metadata": {},
   "source": [
    "### Result"
   ]
  },
  {
   "cell_type": "code",
   "execution_count": 56,
   "metadata": {},
   "outputs": [],
   "source": [
    "vars = [M, S, M_scaled]\n",
    "if all([x is not None for x in vars]):\n",
    "    # this should print your arrays\n",
    "    print(M)\n",
    "    print(S)\n",
    "    print(M_scaled)\n",
    "    \n",
    "    # this should not throw any errors\n",
    "    answer = np.array([[1.0, 4.0, 9.0], [1.1, 4.4, 9.9], [1.2, 4.8, 10.8]])\n",
    "    assert isinstance(M, np.ndarray)\n",
    "    assert isinstance(S, np.ndarray)\n",
    "    assert isinstance(M_scaled, np.ndarray)\n",
    "    np.testing.assert_allclose(M_scaled, answer)"
   ]
  }
 ],
 "metadata": {
  "kernelspec": {
   "display_name": ".venv",
   "language": "python",
   "name": "python3"
  },
  "language_info": {
   "codemirror_mode": {
    "name": "ipython",
    "version": 3
   },
   "file_extension": ".py",
   "mimetype": "text/x-python",
   "name": "python",
   "nbconvert_exporter": "python",
   "pygments_lexer": "ipython3",
   "version": "3.12.8"
  }
 },
 "nbformat": 4,
 "nbformat_minor": 2
}
